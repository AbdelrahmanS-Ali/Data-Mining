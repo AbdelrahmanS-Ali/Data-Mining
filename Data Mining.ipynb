{
  "nbformat": 4,
  "nbformat_minor": 0,
  "metadata": {
    "colab": {
      "name": "Lab2DM.ipynb",
      "provenance": [],
      "collapsed_sections": []
    },
    "kernelspec": {
      "name": "python3",
      "display_name": "Python 3"
    }
  },
  "cells": [
    {
      "cell_type": "markdown",
      "metadata": {
        "id": "yQM5LkpQ5-EF"
      },
      "source": [
        "# Imports"
      ]
    },
    {
      "cell_type": "code",
      "metadata": {
        "id": "LvepaZKIlLyF"
      },
      "source": [
        "import numpy as np\n",
        "import pandas as pd\n",
        "import matplotlib.pyplot as plt\n",
        "import seaborn as sns\n",
        "from sklearn.model_selection import train_test_split\n",
        "from sklearn.decomposition import PCA\n",
        "from scipy.stats import zscore\n",
        "from sklearn.preprocessing import MinMaxScaler"
      ],
      "execution_count": null,
      "outputs": []
    },
    {
      "cell_type": "markdown",
      "metadata": {
        "id": "1Uz4_z8l6DCm"
      },
      "source": [
        "# Loading and modifying the dataset"
      ]
    },
    {
      "cell_type": "code",
      "metadata": {
        "id": "VGisCi0fllw5"
      },
      "source": [
        "def load_dataset():\n",
        "  url = 'https://archive.ics.uci.edu/ml/machine-learning-databases/breast-cancer-wisconsin/wdbc.data'\n",
        "  data = pd.read_csv(url, index_col=False)\n",
        "  data.rename(columns={'842302':'Id','M':'Diagnosis','17.99':'radius_mean','10.38':'texture_mean','122.8':'perimeter_mean','1001':'area_mean','0.1184':'smoothness_mean','0.2776':'compactness_mean','0.3001':'concavity_mean','0.1471':'concave_points_mean','0.2419':'symmetry_mean','0.07871':'fractal_dimension_mean',\n",
        "                       '1.095':'radius_se','0.9053':'texture_se','8.589':'perimeter_se','153.4':'area_se','0.006399':'smoothness_se','0.04904':'compactness_se','0.05373':'concavity_se','0.01587':'concave_points_se','0.03003':'symmetry_se','0.006193':'fractal_dimension_se',\n",
        "                       '25.38':'radius_worst','17.33':'texture_worst','184.6':'perimeter_worst','2019':'area_worst','0.1622':'smoothness_worst','0.6656':'compactness_worst','0.7119':'concavity_worst','0.2654':'concave_points_worst','0.4601':'symmetry_worst','0.1189':'fractal_dimension_worst'}, inplace=True)\n",
        "  column_names = list(data.columns.astype('str'))\n",
        "  data = pd.read_csv(url, index_col=False, names=column_names)\n",
        "  data.head()\n",
        "  return data"
      ],
      "execution_count": null,
      "outputs": []
    },
    {
      "cell_type": "code",
      "metadata": {
        "id": "yxHgvyPbR1I_"
      },
      "source": [
        "training_data=load_dataset()\n",
        "training_data.head()"
      ],
      "execution_count": null,
      "outputs": []
    },
    {
      "cell_type": "code",
      "metadata": {
        "id": "_3zPs0hdXsUP"
      },
      "source": [
        "classes_cnt = training_data['Diagnosis'].value_counts()\n",
        "print(classes_cnt)"
      ],
      "execution_count": null,
      "outputs": []
    },
    {
      "cell_type": "code",
      "metadata": {
        "id": "fdX289MaIsVK"
      },
      "source": [
        "X = training_data.drop(['Diagnosis','Id'], axis=1)\n",
        "Y = training_data['Diagnosis']\n",
        "X.head()"
      ],
      "execution_count": null,
      "outputs": []
    },
    {
      "cell_type": "code",
      "metadata": {
        "id": "wG2YtGi7TQ-t"
      },
      "source": [
        "training_data_b = training_data[training_data['Diagnosis'] == 'B']\n",
        "training_data_m = training_data[training_data['Diagnosis'] == 'M']"
      ],
      "execution_count": null,
      "outputs": []
    },
    {
      "cell_type": "markdown",
      "metadata": {
        "id": "YJYvP2YQahd9"
      },
      "source": [
        "# **Histograms**"
      ]
    },
    {
      "cell_type": "code",
      "metadata": {
        "id": "Q6QL-IYRHcYt"
      },
      "source": [
        "ten_features = list(X.columns[0:10])\n",
        "fig = plt.figure()\n",
        "for i,j in enumerate(ten_features):\n",
        "  i +=1\n",
        "  ax = fig.add_subplot(5,2,i)\n",
        "  ax.hist(training_data_b[j], label='Benign', stacked = True, alpha=.5, color= 'yellow')\n",
        "  ax.hist(training_data_m[j], label='Malignant', stacked = True, alpha=.5, color= 'black')\n",
        "  ax.set_title(j)\n",
        "  \n",
        "plt.legend()\n",
        "plt.subplots_adjust(top=2, bottom=0.08, left=0.10, right=1.5, hspace=1, wspace=0.35)\n",
        "plt.show()"
      ],
      "execution_count": null,
      "outputs": []
    },
    {
      "cell_type": "code",
      "metadata": {
        "id": "wghxxZs0hNRg"
      },
      "source": [
        "ten_features = list(X.columns[10:20])\n",
        "fig = plt.figure()\n",
        "for i,j in enumerate(ten_features):\n",
        "  i +=1\n",
        "  ax = fig.add_subplot(5,2,i)\n",
        "  ax.hist(training_data_b[j], label='Benign', stacked = True, alpha=.5, color= 'yellow')\n",
        "  ax.hist(training_data_m[j], label='Malignant', stacked = True, alpha=.5, color= 'black')\n",
        "  ax.set_title(j)\n",
        "  \n",
        "plt.legend()\n",
        "plt.subplots_adjust(top=2, bottom=0.08, left=0.10, right=1.5, hspace=1, wspace=0.35)\n",
        "plt.show()"
      ],
      "execution_count": null,
      "outputs": []
    },
    {
      "cell_type": "code",
      "metadata": {
        "id": "0nHvUtgThNwh"
      },
      "source": [
        "ten_features = list(X.columns[20:30])\n",
        "fig = plt.figure()\n",
        "for i,j in enumerate(ten_features):\n",
        "  i +=1\n",
        "  ax = fig.add_subplot(5,2,i)\n",
        "  ax.hist(training_data_b[j], label='Benign', stacked = True, alpha=.5, color= 'yellow')\n",
        "  ax.hist(training_data_m[j], label='Malignant', stacked = True, alpha=.5, color= 'black')\n",
        "  ax.set_title(j)\n",
        "  \n",
        "plt.legend()\n",
        "plt.subplots_adjust(top=2, bottom=0.08, left=0.10, right=1.5, hspace=1, wspace=0.35)\n",
        "plt.show()"
      ],
      "execution_count": null,
      "outputs": []
    },
    {
      "cell_type": "markdown",
      "metadata": {
        "id": "r-Rw7Mz5c_dL"
      },
      "source": [
        "# **Boxplots**"
      ]
    },
    {
      "cell_type": "code",
      "metadata": {
        "id": "4mkdfjeYdCsN"
      },
      "source": [
        "ten_features = list(X.columns[0:10])\n",
        "fig = plt.figure()\n",
        "for i,j in enumerate(ten_features):\n",
        "  i +=1\n",
        "  ax = fig.add_subplot(5,2,i)\n",
        "  ax.boxplot([training_data_b[j], training_data_m[j]])\n",
        "  ax.set_title(j)\n",
        "  \n",
        "plt.legend()\n",
        "plt.subplots_adjust(top=8, bottom=0.08, left=0.10, right=1.5, hspace=1, wspace=0.35)\n",
        "plt.show()"
      ],
      "execution_count": null,
      "outputs": []
    },
    {
      "cell_type": "code",
      "metadata": {
        "id": "-G1Bph22hnoi"
      },
      "source": [
        "ten_features = list(X.columns[10:20])\n",
        "fig = plt.figure()\n",
        "for i,j in enumerate(ten_features):\n",
        "  i +=1\n",
        "  ax = fig.add_subplot(5,2,i)\n",
        "  ax.boxplot([training_data_b[j], training_data_m[j]])\n",
        "  ax.set_title(j)\n",
        "  \n",
        "plt.legend()\n",
        "plt.subplots_adjust(top=8, bottom=0.08, left=0.10, right=1.5, hspace=1, wspace=0.35)\n",
        "plt.show()"
      ],
      "execution_count": null,
      "outputs": []
    },
    {
      "cell_type": "code",
      "metadata": {
        "id": "kDZIJKDjhn7I"
      },
      "source": [
        "ten_features = list(X.columns[20:30])\n",
        "fig = plt.figure()\n",
        "for i,j in enumerate(ten_features):\n",
        "  i +=1\n",
        "  ax = fig.add_subplot(5,2,i)\n",
        "  ax.boxplot([training_data_b[j], training_data_m[j]])\n",
        "  ax.set_title(j)\n",
        "  \n",
        "plt.legend()\n",
        "plt.subplots_adjust(top=8, bottom=0.08, left=0.10, right=1.5, hspace=1, wspace=0.35)\n",
        "plt.show()"
      ],
      "execution_count": null,
      "outputs": []
    },
    {
      "cell_type": "markdown",
      "metadata": {
        "id": "-LYgSvTn6XIy"
      },
      "source": [
        "# Correlation Matrix"
      ]
    },
    {
      "cell_type": "code",
      "metadata": {
        "id": "aVpHHKAAcPhs"
      },
      "source": [
        "def visualize_coeff_matrix(arg):\n",
        "  fig = plt.figure(figsize = (15,15))\n",
        "  plt.imshow(arg, cmap='Reds')\n",
        "  plt.colorbar()\n",
        "  plt.xticks([i for i in range(0,arg.shape[0])])\n",
        "  plt.yticks([i for i in range(0,arg.shape[0])])"
      ],
      "execution_count": null,
      "outputs": []
    },
    {
      "cell_type": "code",
      "metadata": {
        "id": "APe4gL5RdGbr"
      },
      "source": [
        "display(X.corr())\n",
        "visualize_coeff_matrix(X.corr())"
      ],
      "execution_count": null,
      "outputs": []
    },
    {
      "cell_type": "markdown",
      "metadata": {
        "id": "LlHftQ-HqLeP"
      },
      "source": [
        "\n",
        "\n",
        "*   As it was expected there are very strong correlations between radius, perimeter and area.\n",
        "*   Compactness, concavity and and concave points are also highly correlated.\n",
        "\n"
      ]
    },
    {
      "cell_type": "code",
      "metadata": {
        "id": "RaNenCJQdbrw"
      },
      "source": [
        "training_data.drop('Id', axis=1, inplace=True)"
      ],
      "execution_count": null,
      "outputs": []
    },
    {
      "cell_type": "code",
      "metadata": {
        "id": "16N1AWgCfbSh"
      },
      "source": [
        "training_data['Diagnosis'] = training_data['Diagnosis'].map({'M':1,'B':0})\n",
        "training_data.head()"
      ],
      "execution_count": null,
      "outputs": []
    },
    {
      "cell_type": "code",
      "metadata": {
        "id": "WwGWCbupsxJ0"
      },
      "source": [
        "features_train, features_test, labels_train, labels_test = train_test_split(X, Y, test_size=0.3, random_state=42)"
      ],
      "execution_count": null,
      "outputs": []
    },
    {
      "cell_type": "code",
      "metadata": {
        "id": "hE8sXd_9uKl5",
        "outputId": "6f4fb030-cc74-4555-b618-99eb4c393d1a",
        "colab": {
          "base_uri": "https://localhost:8080/",
          "height": 85
        }
      },
      "source": [
        "print('Training set has {} samples'.format(len(features_train)))\n",
        "print('Testing set has {} samples'.format(len(features_test)))\n",
        "print('Training set has {} samples'.format(len(labels_train)))\n",
        "print('Testing set has {} samples'.format(len(labels_test)))"
      ],
      "execution_count": null,
      "outputs": [
        {
          "output_type": "stream",
          "text": [
            "Training set has 398 samples\n",
            "Testing set has 171 samples\n",
            "Training set has 398 samples\n",
            "Testing set has 171 samples\n"
          ],
          "name": "stdout"
        }
      ]
    },
    {
      "cell_type": "markdown",
      "metadata": {
        "id": "h8mJIkgdwItH"
      },
      "source": [
        "#**PCA**\n",
        "\n"
      ]
    },
    {
      "cell_type": "code",
      "metadata": {
        "id": "4c8uSp2K9_nA"
      },
      "source": [
        "def plot_pca(X):\n",
        "  features_number = X.shape[1]\n",
        "  pca = PCA(n_components=features_number, random_state=42)\n",
        "  pca.fit(X)\n",
        "  plt.figure(figsize=(20,8))\n",
        "  plt.title('PCA Components variance ratio')\n",
        "  plt.xlabel('PCA Component')\n",
        "  plt.ylabel('Variance Ratio')\n",
        "  plt.xticks([i for i in range(1, features_number + 1)])\n",
        "  plt.plot([i for i in range(1, features_number + 1)], pca.explained_variance_ratio_, color='red', marker='o', linestyle='dashed', linewidth=2, markersize=12)\n",
        "  plt.show()\n",
        "  \n",
        "  plt.figure(figsize=(20,8))\n",
        "  plt.title('Relation Between Number of PCA Components taken and Covered Variance Ratio')\n",
        "  plt.xlabel('Number of Taken PCA Components')\n",
        "  plt.ylabel('Covered Variance Ratio')\n",
        "  plt.xticks([i for i in range(1, features_number + 1)])\n",
        "  plt.plot([i for i in range(1, features_number + 1)], pca.explained_variance_ratio_.cumsum(), color='red', marker='o', linestyle='dashed', linewidth=2, markersize=12)\n",
        "  plt.show()"
      ],
      "execution_count": null,
      "outputs": []
    },
    {
      "cell_type": "code",
      "metadata": {
        "id": "F5alOzFt-COJ"
      },
      "source": [
        "plot_pca(features_train)"
      ],
      "execution_count": null,
      "outputs": []
    },
    {
      "cell_type": "code",
      "metadata": {
        "id": "nYvVNrzf-2Z2"
      },
      "source": [
        "pca = PCA(10, random_state=42)\n",
        "pca.fit(features_train)\n",
        "features_train_reduced = pd.DataFrame(pca.transform(features_train))\n",
        "display(features_train_reduced)"
      ],
      "execution_count": null,
      "outputs": []
    },
    {
      "cell_type": "code",
      "metadata": {
        "id": "NkD7yDUO1VB9"
      },
      "source": [
        "pca = PCA(10, random_state=42)\n",
        "pca.fit(features_train)\n",
        "features_test_reduced = pd.DataFrame(pca.transform(features_test))\n",
        "display(features_test_reduced)"
      ],
      "execution_count": null,
      "outputs": []
    },
    {
      "cell_type": "markdown",
      "metadata": {
        "id": "Hi1d_alc1yCj"
      },
      "source": [
        "# **Z-Score**"
      ]
    },
    {
      "cell_type": "code",
      "metadata": {
        "id": "fuLQTAy1Oy9z"
      },
      "source": [
        "features_train_reduced_normalized = features_train_reduced.apply(zscore)\n",
        "display(features_train_reduced_normalized)"
      ],
      "execution_count": null,
      "outputs": []
    },
    {
      "cell_type": "code",
      "metadata": {
        "id": "5r4v8APBPKPG"
      },
      "source": [
        "features_test_reduced_normalized = features_test_reduced.apply(zscore)\n",
        "display(features_test_reduced_normalized)"
      ],
      "execution_count": null,
      "outputs": []
    },
    {
      "cell_type": "markdown",
      "metadata": {
        "id": "53xJM9BJ2Pl-"
      },
      "source": [
        "# **MinMax**"
      ]
    },
    {
      "cell_type": "code",
      "metadata": {
        "id": "SKkxpZ4fPUuc"
      },
      "source": [
        "from sklearn.preprocessing import MinMaxScaler\n",
        "scaler = MinMaxScaler(feature_range=(0,1))\n",
        "features_train_scaled = pd.DataFrame(data=scaler.fit_transform(features_train), columns=features_train.columns)\n",
        "features_test_scaled = pd.DataFrame(data=scaler.fit_transform(features_test), columns=features_test.columns)"
      ],
      "execution_count": null,
      "outputs": []
    },
    {
      "cell_type": "code",
      "metadata": {
        "id": "EiZ7bWZEzRgA"
      },
      "source": [
        "labels_train_mapped = labels_train.map({'M':1,'B':0})\n",
        "labels_train_mapped.describe()\n",
        "labels_test_mapped = labels_test.map({'M':1,'B':0})"
      ],
      "execution_count": null,
      "outputs": []
    },
    {
      "cell_type": "markdown",
      "metadata": {
        "id": "-Xa_oSs954d5"
      },
      "source": [
        "# **IIIIIIIIIIIIIIIIIIIIIIIIIIIIIII**"
      ]
    },
    {
      "cell_type": "code",
      "metadata": {
        "id": "NQAVImkFPija"
      },
      "source": [
        "from sklearn.metrics import accuracy_score, fbeta_score\n",
        "from time import time\n",
        "def train_predict(learner, X_train, y_train, X_test, y_test): \n",
        "    '''\n",
        "    inputs:\n",
        "       - learner: the learning algorithm to be trained and predicted on\n",
        "       - sample_size: the size of samples (number) to be drawn from training set\n",
        "       - X_train: features training set\n",
        "       - y_train: income training set\n",
        "       - X_test: features testing set\n",
        "       - y_test: income testing set\n",
        "    '''\n",
        "    \n",
        "    results = {}\n",
        "    \n",
        "    start = time() # Get start time\n",
        "    learner.fit(X_train, y_train)\n",
        "    end = time() # Get end time\n",
        "    results['train_time'] = end - start\n",
        "        \n",
        "    start = time() # Get start time\n",
        "    predictions_test = learner.predict(X_test)\n",
        "    predictions_train = learner.predict(X_train[:300])\n",
        "    end = time() # Get end time\n",
        "    results['pred_time'] = end - start\n",
        "      \n",
        "    results['acc_train'] = accuracy_score(y_train[:300], predictions_train)\n",
        "      \n",
        "    results['acc_test'] = accuracy_score(y_test, predictions_test)\n",
        "    \n",
        "    results['f_train'] = fbeta_score(y_train[:300], predictions_train, beta=0.5)\n",
        "        \n",
        "    results['f_test'] = fbeta_score(y_test, predictions_test, beta=0.5)\n",
        "      \n",
        "    print(\"{} trained on {} samples, and tests predicted with accuracy {} and fscore {}\".format(learner.__class__.__name__, len(X_train), results['acc_test'], results['f_test']))\n",
        "    return results"
      ],
      "execution_count": null,
      "outputs": []
    },
    {
      "cell_type": "code",
      "metadata": {
        "id": "8JCf14-deiwr"
      },
      "source": [
        "results = {}\n",
        "results_reduced = {}\n",
        "results_reduced_normalized = {}"
      ],
      "execution_count": null,
      "outputs": []
    },
    {
      "cell_type": "code",
      "metadata": {
        "id": "-gSv_0ZJvklR"
      },
      "source": [
        "display(labels_test)"
      ],
      "execution_count": null,
      "outputs": []
    },
    {
      "cell_type": "code",
      "metadata": {
        "id": "9qQydOEKc2cX"
      },
      "source": [
        "from sklearn.tree import DecisionTreeClassifier\n",
        "clf = DecisionTreeClassifier(random_state=42)\n",
        "print('Before Preprocessing')\n",
        "results[clf.__class__.__name__] = train_predict(clf, features_train, labels_train_mapped , features_test, labels_test_mapped)\n",
        "print('After Applying PCA')\n",
        "results_reduced[clf.__class__.__name__] = train_predict(clf, features_train_reduced, labels_train_mapped, features_test_reduced, labels_test_mapped)\n",
        "print('After Applying PCA and Z Normalization')\n",
        "results_reduced_normalized[clf.__class__.__name__] = train_predict(clf, features_train_reduced_normalized, labels_train_mapped, features_test_reduced_normalized, labels_test_mapped)\n",
        "print('After Scaling Using MinMaxScaler')\n",
        "train_predict(clf, features_train_scaled, labels_train_mapped, features_test_scaled, labels_test_mapped);"
      ],
      "execution_count": null,
      "outputs": []
    },
    {
      "cell_type": "code",
      "metadata": {
        "id": "PNo6jjp6c2zL",
        "outputId": "eb71c332-dc83-4d80-f6bb-a01b70f69b12",
        "colab": {
          "base_uri": "https://localhost:8080/",
          "height": 153
        }
      },
      "source": [
        "from sklearn.ensemble import AdaBoostClassifier\n",
        "clf = AdaBoostClassifier(base_estimator=DecisionTreeClassifier(max_depth=1), n_estimators=100, learning_rate=.1)\n",
        "print('Before Preprocessing')\n",
        "results[clf.__class__.__name__] = train_predict(clf, features_train, labels_train_mapped , features_test, labels_test_mapped)\n",
        "print('After Applying PCA')\n",
        "results_reduced[clf.__class__.__name__] = train_predict(clf, features_train_reduced, labels_train_mapped, features_test_reduced, labels_test_mapped)\n",
        "print('After Applying PCA and Z Normalization')\n",
        "results_reduced_normalized[clf.__class__.__name__] = train_predict(clf, features_train_reduced_normalized, labels_train_mapped, features_test_reduced_normalized, labels_test_mapped)\n",
        "print('After Scaling Using MinMaxScaler')\n",
        "train_predict(clf, features_train_scaled, labels_train_mapped, features_test_scaled, labels_test_mapped);"
      ],
      "execution_count": null,
      "outputs": [
        {
          "output_type": "stream",
          "text": [
            "Before Preprocessing\n",
            "AdaBoostClassifier trained on 398 samples, and tests predicted with accuracy 0.9532163742690059 and fscore 0.9365079365079364\n",
            "After Applying PCA\n",
            "AdaBoostClassifier trained on 398 samples, and tests predicted with accuracy 0.9590643274853801 and fscore 0.9570957095709571\n",
            "After Applying PCA and Z Normalization\n",
            "AdaBoostClassifier trained on 398 samples, and tests predicted with accuracy 0.9532163742690059 and fscore 0.9446254071661235\n",
            "After Scaling Using MinMaxScaler\n",
            "AdaBoostClassifier trained on 398 samples, and tests predicted with accuracy 0.9122807017543859 and fscore 0.84\n"
          ],
          "name": "stdout"
        }
      ]
    },
    {
      "cell_type": "markdown",
      "metadata": {
        "id": "ZHdStuFglMf5"
      },
      "source": [
        "**max_depth default value = none.**\n",
        "The maximum depth of the tree. If None, then nodes are expanded until all leaves are pure or until all leaves contain less than min_samples_split samples"
      ]
    },
    {
      "cell_type": "code",
      "metadata": {
        "id": "LneCH4mQfE07",
        "outputId": "781b1271-51e1-48b5-b577-20145c988c83",
        "colab": {
          "base_uri": "https://localhost:8080/",
          "height": 207
        }
      },
      "source": [
        "from sklearn.ensemble import RandomForestClassifier\n",
        "clf = RandomForestClassifier()\n",
        "print('Before Preprocessing')\n",
        "results[clf.__class__.__name__] = train_predict(clf, features_train, labels_train_mapped , features_test, labels_test_mapped)\n",
        "print('After Applying PCA')\n",
        "results_reduced[clf.__class__.__name__] = train_predict(clf, features_train_reduced, labels_train_mapped, features_test_reduced, labels_test_mapped)\n",
        "print('After Applying PCA and Z Normalization')\n",
        "results_reduced_normalized[clf.__class__.__name__] = train_predict(clf, features_train_reduced_normalized, labels_train_mapped, features_test_reduced_normalized, labels_test_mapped)\n",
        "print('After Scaling Using MinMaxScaler')\n",
        "train_predict(clf, features_train_scaled, labels_train_mapped, features_test_scaled, labels_test_mapped);"
      ],
      "execution_count": null,
      "outputs": [
        {
          "output_type": "stream",
          "text": [
            "Before Preprocessing\n",
            "RandomForestClassifier trained on 398 samples, and tests predicted with accuracy 0.9590643274853801 and fscore 0.9570957095709571\n",
            "After Applying PCA\n",
            "RandomForestClassifier trained on 398 samples, and tests predicted with accuracy 0.9707602339181286 and fscore 0.9830508474576272\n",
            "After Applying PCA and Z Normalization\n",
            "RandomForestClassifier trained on 398 samples, and tests predicted with accuracy 0.9590643274853801 and fscore 0.9570957095709571\n",
            "After Scaling Using MinMaxScaler\n",
            "RandomForestClassifier trained on 398 samples, and tests predicted with accuracy 0.9415204678362573 and fscore 0.8933717579250718\n"
          ],
          "name": "stdout"
        },
        {
          "output_type": "stream",
          "text": [
            "/usr/local/lib/python3.6/dist-packages/sklearn/ensemble/forest.py:245: FutureWarning: The default value of n_estimators will change from 10 in version 0.20 to 100 in 0.22.\n",
            "  \"10 in version 0.20 to 100 in 0.22.\", FutureWarning)\n"
          ],
          "name": "stderr"
        }
      ]
    },
    {
      "cell_type": "code",
      "metadata": {
        "id": "97UuOZCXBkLK"
      },
      "source": [
        "import matplotlib.patches as mpatches\n",
        "def evaluate(results, title):\n",
        "    \"\"\"\n",
        "    Visualization code to display results of various learners.\n",
        "    \n",
        "    inputs:\n",
        "      - learners: a list of supervised learners\n",
        "      - stats: a list of dictionaries of the statistic results from 'train_predict()'\n",
        "      - accuracy: The score for the naive predictor\n",
        "      - f1: The score for the naive predictor\n",
        "    \"\"\"\n",
        "  \n",
        "    # Create figure\n",
        "    fig, ax = plt.subplots(2, 3, figsize = (25,10))\n",
        "\n",
        "    # Constants\n",
        "    bar_width = 0.3\n",
        "    colors = ['#A00000','#00A0A0','#00AFFD','#00AB0A','#C0A0AA', '#ADA000']\n",
        "    \n",
        "    # classifier\n",
        "    for k, learner in enumerate(results.keys()):\n",
        "        # metric\n",
        "        for j, metric in enumerate(['train_time', 'acc_train', 'f_train', 'pred_time', 'acc_test', 'f_test']):\n",
        "              # Creative plot code\n",
        "              ax[int(j/3), j%3].bar(k*bar_width, results[learner][metric], width=bar_width, color=colors[k])\n",
        "              ax[int(j/3), j%3].set_xticks([0.45, 1.45, 2.45])\n",
        "              ax[int(j/3), j%3].set_xlabel(\"Classiifer Algorithm\")\n",
        "              ax[int(j/3), j%3].set_xlim((-0.1, 3.0))\n",
        "\n",
        "    # Add unique y-labels\n",
        "    ax[0, 0].set_ylabel(\"Time (in seconds)\")\n",
        "    ax[0, 1].set_ylabel(\"Accuracy Score\")\n",
        "    ax[0, 2].set_ylabel(\"F-score\")\n",
        "    ax[1, 0].set_ylabel(\"Time (in seconds)\")\n",
        "    ax[1, 1].set_ylabel(\"Accuracy Score\")\n",
        "    ax[1, 2].set_ylabel(\"F-score\")\n",
        "    # Add titles\n",
        "    ax[0, 0].set_title(\"Model Training\")\n",
        "    ax[0, 1].set_title(\"Accuracy Score on Training Subset\")\n",
        "    ax[0, 2].set_title(\"F-score on Training Subset\")\n",
        "    ax[1, 0].set_title(\"Model Predicting\")\n",
        "    ax[1, 1].set_title(\"Accuracy Score on Testing Set\")\n",
        "    ax[1, 2].set_title(\"F-score on Testing Set\")\n",
        "    \n",
        "    # Set y-limits for score panels\n",
        "    ax[0, 1].set_ylim((0, 1))\n",
        "    ax[0, 2].set_ylim((0, 1))\n",
        "    ax[1, 1].set_ylim((0, 1))\n",
        "    ax[1, 2].set_ylim((0, 1))\n",
        "\n",
        "    # Create patches for the legend\n",
        "    patches = []\n",
        "    for i, learner in enumerate(results.keys()):\n",
        "        patches.append(mpatches.Patch(color = colors[i], label = learner))\n",
        "    plt.legend(handles = patches, bbox_to_anchor=(-.80, 2.53), \\\n",
        "               loc = 'upper center', borderaxespad = 0., ncol = 3, fontsize = 'x-large')\n",
        "    \n",
        "    # Aesthetics\n",
        "    plt.suptitle(title, fontsize = 16, y = 1.02)\n",
        "    plt.tight_layout()\n",
        "    plt.show()"
      ],
      "execution_count": null,
      "outputs": []
    },
    {
      "cell_type": "code",
      "metadata": {
        "id": "PrZmih0ECf62",
        "outputId": "138f96de-fa54-4790-9b1f-4d39ca3cbf50",
        "colab": {
          "base_uri": "https://localhost:8080/",
          "height": 743
        }
      },
      "source": [
        "evaluate(results, \"Performance Metrics for Different Models Before Preprocessing\")"
      ],
      "execution_count": null,
      "outputs": [
        {
          "output_type": "stream",
          "text": [
            "/usr/local/lib/python3.6/dist-packages/ipykernel_launcher.py:59: UserWarning: Tight layout not applied. tight_layout cannot make axes width small enough to accommodate all axes decorations\n"
          ],
          "name": "stderr"
        },
        {
          "output_type": "display_data",
          "data": {
            "image/png": "[encoded data removed]",
            "text/plain": [
              "<Figure size 1080x720 with 6 Axes>"
            ]
          },
          "metadata": {
            "tags": []
          }
        }
      ]
    },
    {
      "cell_type": "markdown",
      "metadata": {
        "id": "2cqirFABDdXc"
      },
      "source": [
        "**Model Parameter Tuning**"
      ]
    },
    {
      "cell_type": "code",
      "metadata": {
        "id": "aw6QubcZDnuC"
      },
      "source": [
        "from sklearn.model_selection import GridSearchCV\n",
        "from sklearn.metrics import fbeta_score, make_scorer\n",
        "\n",
        "def tune_model(clf, parameters, X_train, y_train, X_test, y_test):\n",
        "  scorer = make_scorer(fbeta_score, beta=1)\n",
        "  grid_obj = GridSearchCV(estimator=clf, param_grid=parameters, scoring=scorer, n_jobs= -1)\n",
        "  grid_fit = grid_obj.fit(X_train, y_train)\n",
        "  # Get the best estimator\n",
        "  best_clf = grid_fit.best_estimator_\n",
        "  # Get predictions \n",
        "  predictions = (clf.fit(X_train, y_train)).predict(X_test)\n",
        "  best_predictions = best_clf.predict(X_test)\n",
        "  \n",
        "  print(\"Untuned model\")\n",
        "  print(\"Accuracy score on testing data: {:.4f}\".format(accuracy_score(y_test, predictions)))\n",
        "  print(\"F-score on testing data: {:.4f}\".format(fbeta_score(y_test, predictions, beta=1)))\n",
        "  print('-------------------------------')\n",
        "  print(\"Tuned Model\")\n",
        "  print(\"Best accuracy score on the testing data: {:.4f}\".format(accuracy_score(y_test, best_predictions)))\n",
        "  print(\"Best F-score on the testing data: {:.4f}\".format(fbeta_score(y_test, best_predictions, beta=1)))\n",
        "  print('-------------------------------')\n",
        "  print(\"Best parameters found:\", grid_fit.best_params_)\n",
        "  print('-------------------------------')\n",
        "  display(pd.DataFrame(grid_obj.cv_results_))\n",
        "  return {'old_clf' : clf.fit(X_train, y_train), 'tuned_clf' : best_clf}"
      ],
      "execution_count": null,
      "outputs": []
    },
    {
      "cell_type": "code",
      "metadata": {
        "id": "VeChUzmzDnyC"
      },
      "source": [
        "parameters = {'max_depth':range(1, 10)}\n",
        "clf = DecisionTreeClassifier(random_state=42)\n",
        "tune_model(clf, parameters, features_train, labels_train_mapped, features_test, labels_test_mapped);"
      ],
      "execution_count": null,
      "outputs": []
    },
    {
      "cell_type": "code",
      "metadata": {
        "id": "aK-dzQEDP0QX"
      },
      "source": [
        "parameters = {'n_estimators':range(100,500,100),'max_depth':range(1,10)}\n",
        "clf = RandomForestClassifier(random_state=42, n_jobs=-1)  \n",
        "tune_model(clf, parameters, features_train, labels_train_mapped, features_test, labels_test_mapped);"
      ],
      "execution_count": null,
      "outputs": []
    },
    {
      "cell_type": "code",
      "metadata": {
        "id": "Rm598AHPQWIm"
      },
      "source": [
        "import numpy as pynum_float\n",
        "parameters = {'n_estimators':range(100, 500, 100), 'learning_rate':pynum_float.arange(0.1,1,0.1)}\n",
        "clf = AdaBoostClassifier(base_estimator=DecisionTreeClassifier(max_depth=10), learning_rate=0.2, random_state=6)\n",
        "tune_model(clf, parameters, features_train, labels_train_mapped, features_test, labels_test_mapped);"
      ],
      "execution_count": null,
      "outputs": []
    },
    {
      "cell_type": "code",
      "metadata": {
        "id": "d_6BK642vbNr"
      },
      "source": [
        "from sklearn.metrics import classification_report, confusion_matrix\n",
        "\n",
        "final_model = DecisionTreeClassifier(max_depth=2,random_state=42)\n",
        "final_model.fit(features_train, labels_train)\n",
        "labels_pred = final_model.predict(features_test)\n",
        "labels_true = labels_test"
      ],
      "execution_count": null,
      "outputs": []
    },
    {
      "cell_type": "code",
      "metadata": {
        "id": "dgF3HW426SZ3",
        "outputId": "93022f34-7977-43ca-e9e5-4f72fd8c88cf",
        "colab": {
          "base_uri": "https://localhost:8080/",
          "height": 204
        }
      },
      "source": [
        "print(classification_report(labels_true, labels_pred))\n",
        "print(confusion_matrix(labels_test, labels_pred))"
      ],
      "execution_count": null,
      "outputs": [
        {
          "output_type": "stream",
          "text": [
            "              precision    recall  f1-score   support\n",
            "\n",
            "           B       0.94      0.94      0.94       108\n",
            "           M       0.90      0.90      0.90        63\n",
            "\n",
            "    accuracy                           0.93       171\n",
            "   macro avg       0.92      0.92      0.92       171\n",
            "weighted avg       0.93      0.93      0.93       171\n",
            "\n",
            "[[102   6]\n",
            " [  6  57]]\n"
          ],
          "name": "stdout"
        }
      ]
    },
    {
      "cell_type": "code",
      "metadata": {
        "id": "5TlCWGFS5590"
      },
      "source": [
        "ada_model = AdaBoostClassifier(base_estimator=DecisionTreeClassifier(max_depth=10), n_estimators=100, learning_rate=0.1, random_state=6)\n",
        "ada_model.fit(features_train, labels_train)\n",
        "labels_pred_ada = ada_model.predict(features_test)\n",
        "labels_true_ada = labels_test"
      ],
      "execution_count": null,
      "outputs": []
    },
    {
      "cell_type": "code",
      "metadata": {
        "id": "Gzjghpso7UQ1",
        "outputId": "489ea1e1-e203-4174-daad-3aa69cc26f13",
        "colab": {
          "base_uri": "https://localhost:8080/",
          "height": 204
        }
      },
      "source": [
        "print(classification_report(labels_true_ada, labels_pred_ada))\n",
        "print(confusion_matrix(labels_test, labels_pred_ada))"
      ],
      "execution_count": null,
      "outputs": [
        {
          "output_type": "stream",
          "text": [
            "              precision    recall  f1-score   support\n",
            "\n",
            "           B       0.96      0.94      0.95       108\n",
            "           M       0.89      0.94      0.91        63\n",
            "\n",
            "    accuracy                           0.94       171\n",
            "   macro avg       0.93      0.94      0.93       171\n",
            "weighted avg       0.94      0.94      0.94       171\n",
            "\n",
            "[[101   7]\n",
            " [  4  59]]\n"
          ],
          "name": "stdout"
        }
      ]
    },
    {
      "cell_type": "code",
      "metadata": {
        "id": "IgwRvPHB8B5r"
      },
      "source": [
        "forest_model = RandomForestClassifier(n_estimators=200, max_depth=6)\n",
        "forest_model.fit(features_train, labels_train)\n",
        "labels_pred_forest = forest_model.predict(features_test)\n",
        "labels_true_forest = labels_test"
      ],
      "execution_count": null,
      "outputs": []
    },
    {
      "cell_type": "code",
      "metadata": {
        "id": "ftVxZ0Jq8CsS",
        "outputId": "b0b7fc2a-9af5-4f59-d525-b533e9dd674a",
        "colab": {
          "base_uri": "https://localhost:8080/",
          "height": 204
        }
      },
      "source": [
        "print(classification_report(labels_true_forest, labels_pred_forest))\n",
        "print(confusion_matrix(labels_test, labels_pred_forest))"
      ],
      "execution_count": null,
      "outputs": [
        {
          "output_type": "stream",
          "text": [
            "              precision    recall  f1-score   support\n",
            "\n",
            "           B       0.96      0.99      0.98       108\n",
            "           M       0.98      0.94      0.96        63\n",
            "\n",
            "    accuracy                           0.97       171\n",
            "   macro avg       0.97      0.96      0.97       171\n",
            "weighted avg       0.97      0.97      0.97       171\n",
            "\n",
            "[[107   1]\n",
            " [  4  59]]\n"
          ],
          "name": "stdout"
        }
      ]
    },
    {
      "cell_type": "markdown",
      "metadata": {
        "id": "fLfCTE7d-2qK"
      },
      "source": [
        "# ***Lab 3***"
      ]
    },
    {
      "cell_type": "code",
      "metadata": {
        "id": "TapVFgYtkBw5"
      },
      "source": [
        "results = {}"
      ],
      "execution_count": null,
      "outputs": []
    },
    {
      "cell_type": "markdown",
      "metadata": {
        "id": "qeGQOmn8bk-a"
      },
      "source": [
        "Classification:"
      ]
    },
    {
      "cell_type": "markdown",
      "metadata": {
        "id": "W5ejq3BybouU"
      },
      "source": [
        "1- KNN :"
      ]
    },
    {
      "cell_type": "code",
      "metadata": {
        "id": "WopKM-1Mcqi5",
        "colab": {
          "base_uri": "https://localhost:8080/",
          "height": 153
        },
        "outputId": "656442a9-66be-4a47-d419-ba0b25075726"
      },
      "source": [
        "from sklearn.neighbors import KNeighborsClassifier\n",
        "clf = KNeighborsClassifier(n_neighbors=3)\n",
        "print('Before Preprocessing')\n",
        "results[clf.__class__.__name__] = train_predict(clf, features_train, labels_train_mapped, features_test, labels_test_mapped)\n",
        "print('After Applying PCA')\n",
        "results_reduced[clf.__class__.__name__] = train_predict(clf, features_train_reduced, labels_train_mapped, features_test_reduced, labels_test_mapped)\n",
        "print('After Applying PCA and Z Normalization')\n",
        "results_reduced_normalized[clf.__class__.__name__] = train_predict(clf, features_train_reduced_normalized, labels_train_mapped, features_test_reduced_normalized, labels_test_mapped)\n",
        "print('After Scaling Using MinMaxScaler')\n",
        "train_predict(clf, features_train_scaled, labels_train_mapped, features_test_scaled, labels_test_mapped);"
      ],
      "execution_count": null,
      "outputs": [
        {
          "output_type": "stream",
          "text": [
            "Before Preprocessing\n",
            "KNeighborsClassifier trained on 398 samples, and tests predicted with accuracy 0.9415204678362573 and fscore 0.9283387622149838\n",
            "After Applying PCA\n",
            "KNeighborsClassifier trained on 398 samples, and tests predicted with accuracy 0.9415204678362573 and fscore 0.9283387622149838\n",
            "After Applying PCA and Z Normalization\n",
            "KNeighborsClassifier trained on 398 samples, and tests predicted with accuracy 0.9473684210526315 and fscore 0.9581881533101045\n",
            "After Scaling Using MinMaxScaler\n",
            "KNeighborsClassifier trained on 398 samples, and tests predicted with accuracy 0.9473684210526315 and fscore 0.9037900874635569\n"
          ],
          "name": "stdout"
        }
      ]
    },
    {
      "cell_type": "markdown",
      "metadata": {
        "id": "gMH5q6Dubtos"
      },
      "source": [
        "2- SVM :"
      ]
    },
    {
      "cell_type": "code",
      "metadata": {
        "id": "LywCDrvNcoGR",
        "colab": {
          "base_uri": "https://localhost:8080/",
          "height": 221
        },
        "outputId": "5e6307d7-8c62-44cc-e9e6-aa5b793652a5"
      },
      "source": [
        "from sklearn.svm import LinearSVC\n",
        "clf = LinearSVC(C=1)\n",
        "print('Before Preprocessing')\n",
        "results[clf.__class__.__name__] = train_predict(clf, features_train, labels_train_mapped, features_test, labels_test_mapped)\n",
        "print('After Applying PCA')\n",
        "results_reduced[clf.__class__.__name__] = train_predict(clf, features_train_reduced, labels_train_mapped, features_test_reduced, labels_test_mapped)\n",
        "print('After Applying PCA and Z Normalization')\n",
        "results_reduced_normalized[clf.__class__.__name__] = train_predict(clf, features_train_reduced_normalized, labels_train_mapped, features_test_reduced_normalized, labels_test_mapped)\n",
        "print('After Scaling Using MinMaxScaler')\n",
        "train_predict(clf, features_train_scaled, labels_train_mapped, features_test_scaled, labels_test_mapped);"
      ],
      "execution_count": null,
      "outputs": [
        {
          "output_type": "stream",
          "text": [
            "Before Preprocessing\n",
            "LinearSVC trained on 398 samples, and tests predicted with accuracy 0.9298245614035088 and fscore 0.9550561797752809\n",
            "After Applying PCA\n",
            "LinearSVC trained on 398 samples, and tests predicted with accuracy 0.16374269005847952 and fscore 0.13347022587268995\n",
            "After Applying PCA and Z Normalization\n",
            "LinearSVC trained on 398 samples, and tests predicted with accuracy 0.9590643274853801 and fscore 0.9570957095709571\n",
            "After Scaling Using MinMaxScaler\n",
            "LinearSVC trained on 398 samples, and tests predicted with accuracy 0.8947368421052632 and fscore 0.813953488372093\n"
          ],
          "name": "stdout"
        },
        {
          "output_type": "stream",
          "text": [
            "/usr/local/lib/python3.6/dist-packages/sklearn/svm/base.py:929: ConvergenceWarning: Liblinear failed to converge, increase the number of iterations.\n",
            "  \"the number of iterations.\", ConvergenceWarning)\n",
            "/usr/local/lib/python3.6/dist-packages/sklearn/svm/base.py:929: ConvergenceWarning: Liblinear failed to converge, increase the number of iterations.\n",
            "  \"the number of iterations.\", ConvergenceWarning)\n"
          ],
          "name": "stderr"
        }
      ]
    },
    {
      "cell_type": "markdown",
      "metadata": {
        "id": "pzwypqQfbuDd"
      },
      "source": [
        "3- Non-linear SVM : (Takes more time but more accurate than Linear SVM)"
      ]
    },
    {
      "cell_type": "code",
      "metadata": {
        "id": "wQC8v_vKcnPa",
        "colab": {
          "base_uri": "https://localhost:8080/",
          "height": 343
        },
        "outputId": "ba44ded2-8b3e-42a5-ab30-6a01cdbcadcd"
      },
      "source": [
        "from sklearn.svm import SVC\n",
        "clf = SVC(gamma='auto_deprecated',kernel='rbf')\n",
        "print('Before Preprocessing')\n",
        "results[clf.__class__.__name__] = train_predict(clf, features_train, labels_train_mapped, features_test, labels_test_mapped)\n",
        "print('After Applying PCA')\n",
        "results_reduced[clf.__class__.__name__] = train_predict(clf, features_train_reduced, labels_train_mapped, features_test_reduced, labels_test_mapped)\n",
        "print('After Applying PCA and Z Normalization')\n",
        "results_reduced_normalized[clf.__class__.__name__] = train_predict(clf, features_train_reduced_normalized, labels_train_mapped, features_test_reduced_normalized, labels_test_mapped)\n",
        "print('After Scaling Using MinMaxScaler')\n",
        "train_predict(clf, features_train_scaled, labels_train_mapped, features_test_scaled, labels_test_mapped);"
      ],
      "execution_count": null,
      "outputs": [
        {
          "output_type": "stream",
          "text": [
            "Before Preprocessing\n",
            "SVC trained on 398 samples, and tests predicted with accuracy 0.631578947368421 and fscore 0.0\n",
            "After Applying PCA\n",
            "SVC trained on 398 samples, and tests predicted with accuracy 0.631578947368421 and fscore 0.0\n",
            "After Applying PCA and Z Normalization\n",
            "SVC trained on 398 samples, and tests predicted with accuracy 0.9707602339181286 and fscore 0.9646302250803858\n",
            "After Scaling Using MinMaxScaler\n",
            "SVC trained on 398 samples, and tests predicted with accuracy 0.9824561403508771 and fscore 0.9717868338557992\n"
          ],
          "name": "stdout"
        },
        {
          "output_type": "stream",
          "text": [
            "/usr/local/lib/python3.6/dist-packages/sklearn/svm/base.py:193: FutureWarning: The default value of gamma will change from 'auto' to 'scale' in version 0.22 to account better for unscaled features. Set gamma explicitly to 'auto' or 'scale' to avoid this warning.\n",
            "  \"avoid this warning.\", FutureWarning)\n",
            "/usr/local/lib/python3.6/dist-packages/sklearn/metrics/classification.py:1437: UndefinedMetricWarning: F-score is ill-defined and being set to 0.0 due to no predicted samples.\n",
            "  'precision', 'predicted', average, warn_for)\n",
            "/usr/local/lib/python3.6/dist-packages/sklearn/svm/base.py:193: FutureWarning: The default value of gamma will change from 'auto' to 'scale' in version 0.22 to account better for unscaled features. Set gamma explicitly to 'auto' or 'scale' to avoid this warning.\n",
            "  \"avoid this warning.\", FutureWarning)\n",
            "/usr/local/lib/python3.6/dist-packages/sklearn/metrics/classification.py:1437: UndefinedMetricWarning: F-score is ill-defined and being set to 0.0 due to no predicted samples.\n",
            "  'precision', 'predicted', average, warn_for)\n",
            "/usr/local/lib/python3.6/dist-packages/sklearn/svm/base.py:193: FutureWarning: The default value of gamma will change from 'auto' to 'scale' in version 0.22 to account better for unscaled features. Set gamma explicitly to 'auto' or 'scale' to avoid this warning.\n",
            "  \"avoid this warning.\", FutureWarning)\n"
          ],
          "name": "stderr"
        }
      ]
    },
    {
      "cell_type": "markdown",
      "metadata": {
        "id": "XIx_o6hkdW0-"
      },
      "source": [
        "The main advantage of scaling is to avoid attributes in greater numeric ranges dominating those in smaller numeric ranges. Another advantage is to avoid numerical diculties during the calculation. Because kernel values usually depend on the inner products of feature vectors, e.g. the linear kernel and the polynomial ker- nel, large attribute values might cause numerical problems. We recommend linearly scaling each attribute to the range [-1,+1] or [0,1]."
      ]
    },
    {
      "cell_type": "markdown",
      "metadata": {
        "id": "5qq4U7Rlbt-R"
      },
      "source": [
        "4- Logistic Regression :"
      ]
    },
    {
      "cell_type": "code",
      "metadata": {
        "id": "NuAKHOdFcmaz",
        "colab": {
          "base_uri": "https://localhost:8080/",
          "height": 309
        },
        "outputId": "b24e9197-00e0-4ed3-d529-8e8080fc2aab"
      },
      "source": [
        "from sklearn.linear_model import LogisticRegression\n",
        "clf = LogisticRegression(random_state=6)\n",
        "print('Before Preprocessing')\n",
        "results[clf.__class__.__name__] = train_predict(clf, features_train, labels_train_mapped, features_test, labels_test_mapped);\n",
        "print('After Applying PCA')\n",
        "results_reduced[clf.__class__.__name__] = train_predict(clf, features_train_reduced, labels_train_mapped, features_test_reduced, labels_test_mapped);\n",
        "print('After Applying PCA and Z Normalization')\n",
        "results_reduced_normalized[clf.__class__.__name__] = train_predict(clf, features_train_reduced_normalized, labels_train_mapped, features_test_reduced_normalized, labels_test_mapped);\n",
        "print('After Scaling Using MinMaxScaler')\n",
        "train_predict(clf, features_train_scaled, labels_train_mapped, features_test_scaled, labels_test_mapped);"
      ],
      "execution_count": null,
      "outputs": [
        {
          "output_type": "stream",
          "text": [
            "Before Preprocessing\n",
            "LogisticRegression trained on 398 samples, and tests predicted with accuracy 0.9649122807017544 and fscore 0.9609120521172639\n",
            "After Applying PCA\n",
            "LogisticRegression trained on 398 samples, and tests predicted with accuracy 0.9707602339181286 and fscore 0.9646302250803858\n",
            "After Applying PCA and Z Normalization\n",
            "LogisticRegression trained on 398 samples, and tests predicted with accuracy 0.9649122807017544 and fscore 0.9698996655518395\n",
            "After Scaling Using MinMaxScaler\n",
            "LogisticRegression trained on 398 samples, and tests predicted with accuracy 0.9590643274853801 and fscore 0.9253731343283581\n"
          ],
          "name": "stdout"
        },
        {
          "output_type": "stream",
          "text": [
            "/usr/local/lib/python3.6/dist-packages/sklearn/linear_model/logistic.py:432: FutureWarning: Default solver will be changed to 'lbfgs' in 0.22. Specify a solver to silence this warning.\n",
            "  FutureWarning)\n",
            "/usr/local/lib/python3.6/dist-packages/sklearn/linear_model/logistic.py:432: FutureWarning: Default solver will be changed to 'lbfgs' in 0.22. Specify a solver to silence this warning.\n",
            "  FutureWarning)\n",
            "/usr/local/lib/python3.6/dist-packages/sklearn/linear_model/logistic.py:432: FutureWarning: Default solver will be changed to 'lbfgs' in 0.22. Specify a solver to silence this warning.\n",
            "  FutureWarning)\n",
            "/usr/local/lib/python3.6/dist-packages/sklearn/linear_model/logistic.py:432: FutureWarning: Default solver will be changed to 'lbfgs' in 0.22. Specify a solver to silence this warning.\n",
            "  FutureWarning)\n"
          ],
          "name": "stderr"
        }
      ]
    },
    {
      "cell_type": "markdown",
      "metadata": {
        "id": "mhVSSQSc5Ude"
      },
      "source": [
        "Comparison :"
      ]
    },
    {
      "cell_type": "code",
      "metadata": {
        "id": "UaBFIoqj5W4Z",
        "colab": {
          "base_uri": "https://localhost:8080/",
          "height": 775
        },
        "outputId": "da102da3-76ec-4755-bedb-80b0126f3b1b"
      },
      "source": [
        "evaluate(results, \"Performance Metrics for Different Models Before Preprocessing\")\n"
      ],
      "execution_count": null,
      "outputs": [
        {
          "output_type": "display_data",
          "data": {
            "image/png": "[encoded data removed]",
            "text/plain": [
              "<Figure size 1800x720 with 6 Axes>"
            ]
          },
          "metadata": {
            "tags": []
          }
        }
      ]
    },
    {
      "cell_type": "markdown",
      "metadata": {
        "id": "OyLWgqkqbt6u"
      },
      "source": [
        "Parameter Tuning :"
      ]
    },
    {
      "cell_type": "markdown",
      "metadata": {
        "id": "Th3oXammbt3W"
      },
      "source": [
        "1- KNN :"
      ]
    },
    {
      "cell_type": "code",
      "metadata": {
        "id": "wZHJ4b1Jcie8",
        "colab": {
          "base_uri": "https://localhost:8080/",
          "height": 1000
        },
        "outputId": "56ed1514-2f59-4f56-deeb-7efc2afc788b"
      },
      "source": [
        "parameters = {'n_neighbors':range(1,20)}\n",
        "clf = KNeighborsClassifier()  \n",
        "tune_model(clf, parameters, features_train, labels_train_mapped, features_test, labels_test_mapped);\n"
      ],
      "execution_count": null,
      "outputs": [
        {
          "output_type": "stream",
          "text": [
            "/usr/local/lib/python3.6/dist-packages/sklearn/model_selection/_split.py:1978: FutureWarning: The default value of cv will change from 3 to 5 in version 0.22. Specify it explicitly to silence this warning.\n",
            "  warnings.warn(CV_WARNING, FutureWarning)\n"
          ],
          "name": "stderr"
        },
        {
          "output_type": "stream",
          "text": [
            "Untuned model\n",
            "Accuracy score on testing data: 0.9591\n",
            "F-score on testing data: 0.9421\n",
            "-------------------------------\n",
            "Tuned Model\n",
            "Best accuracy score on the testing data: 0.9591\n",
            "Best F-score on the testing data: 0.9421\n",
            "-------------------------------\n",
            "Best parameters found: {'n_neighbors': 5}\n",
            "-------------------------------\n"
          ],
          "name": "stdout"
        },
        {
          "output_type": "display_data",
          "data": {
            "text/html": [
              "<div>\n",
              "<style scoped>\n",
              "    .dataframe tbody tr th:only-of-type {\n",
              "        vertical-align: middle;\n",
              "    }\n",
              "\n",
              "    .dataframe tbody tr th {\n",
              "        vertical-align: top;\n",
              "    }\n",
              "\n",
              "    .dataframe thead th {\n",
              "        text-align: right;\n",
              "    }\n",
              "</style>\n",
              "<table border=\"1\" class=\"dataframe\">\n",
              "  <thead>\n",
              "    <tr style=\"text-align: right;\">\n",
              "      <th></th>\n",
              "      <th>mean_fit_time</th>\n",
              "      <th>std_fit_time</th>\n",
              "      <th>mean_score_time</th>\n",
              "      <th>std_score_time</th>\n",
              "      <th>param_n_neighbors</th>\n",
              "      <th>params</th>\n",
              "      <th>split0_test_score</th>\n",
              "      <th>split1_test_score</th>\n",
              "      <th>split2_test_score</th>\n",
              "      <th>mean_test_score</th>\n",
              "      <th>std_test_score</th>\n",
              "      <th>rank_test_score</th>\n",
              "    </tr>\n",
              "  </thead>\n",
              "  <tbody>\n",
              "    <tr>\n",
              "      <th>0</th>\n",
              "      <td>0.006009</td>\n",
              "      <td>0.000679</td>\n",
              "      <td>0.013164</td>\n",
              "      <td>0.000985</td>\n",
              "      <td>1</td>\n",
              "      <td>{'n_neighbors': 1}</td>\n",
              "      <td>0.875000</td>\n",
              "      <td>0.888889</td>\n",
              "      <td>0.860215</td>\n",
              "      <td>0.874738</td>\n",
              "      <td>0.011700</td>\n",
              "      <td>6</td>\n",
              "    </tr>\n",
              "    <tr>\n",
              "      <th>1</th>\n",
              "      <td>0.004136</td>\n",
              "      <td>0.000421</td>\n",
              "      <td>0.014370</td>\n",
              "      <td>0.001121</td>\n",
              "      <td>2</td>\n",
              "      <td>{'n_neighbors': 2}</td>\n",
              "      <td>0.891304</td>\n",
              "      <td>0.901099</td>\n",
              "      <td>0.850575</td>\n",
              "      <td>0.881069</td>\n",
              "      <td>0.021851</td>\n",
              "      <td>3</td>\n",
              "    </tr>\n",
              "    <tr>\n",
              "      <th>2</th>\n",
              "      <td>0.006581</td>\n",
              "      <td>0.001973</td>\n",
              "      <td>0.012205</td>\n",
              "      <td>0.000684</td>\n",
              "      <td>3</td>\n",
              "      <td>{'n_neighbors': 3}</td>\n",
              "      <td>0.872340</td>\n",
              "      <td>0.907216</td>\n",
              "      <td>0.857143</td>\n",
              "      <td>0.878955</td>\n",
              "      <td>0.020960</td>\n",
              "      <td>4</td>\n",
              "    </tr>\n",
              "    <tr>\n",
              "      <th>3</th>\n",
              "      <td>0.004125</td>\n",
              "      <td>0.000393</td>\n",
              "      <td>0.012431</td>\n",
              "      <td>0.001216</td>\n",
              "      <td>4</td>\n",
              "      <td>{'n_neighbors': 4}</td>\n",
              "      <td>0.869565</td>\n",
              "      <td>0.891304</td>\n",
              "      <td>0.840909</td>\n",
              "      <td>0.867326</td>\n",
              "      <td>0.020622</td>\n",
              "      <td>15</td>\n",
              "    </tr>\n",
              "    <tr>\n",
              "      <th>4</th>\n",
              "      <td>0.004192</td>\n",
              "      <td>0.000088</td>\n",
              "      <td>0.013574</td>\n",
              "      <td>0.001496</td>\n",
              "      <td>5</td>\n",
              "      <td>{'n_neighbors': 5}</td>\n",
              "      <td>0.881720</td>\n",
              "      <td>0.905263</td>\n",
              "      <td>0.879121</td>\n",
              "      <td>0.888726</td>\n",
              "      <td>0.011764</td>\n",
              "      <td>1</td>\n",
              "    </tr>\n",
              "    <tr>\n",
              "      <th>5</th>\n",
              "      <td>0.003962</td>\n",
              "      <td>0.000157</td>\n",
              "      <td>0.011925</td>\n",
              "      <td>0.000332</td>\n",
              "      <td>6</td>\n",
              "      <td>{'n_neighbors': 6}</td>\n",
              "      <td>0.869565</td>\n",
              "      <td>0.891304</td>\n",
              "      <td>0.853933</td>\n",
              "      <td>0.871645</td>\n",
              "      <td>0.015318</td>\n",
              "      <td>9</td>\n",
              "    </tr>\n",
              "    <tr>\n",
              "      <th>6</th>\n",
              "      <td>0.004255</td>\n",
              "      <td>0.000149</td>\n",
              "      <td>0.011962</td>\n",
              "      <td>0.000730</td>\n",
              "      <td>7</td>\n",
              "      <td>{'n_neighbors': 7}</td>\n",
              "      <td>0.869565</td>\n",
              "      <td>0.905263</td>\n",
              "      <td>0.857143</td>\n",
              "      <td>0.877374</td>\n",
              "      <td>0.020397</td>\n",
              "      <td>5</td>\n",
              "    </tr>\n",
              "    <tr>\n",
              "      <th>7</th>\n",
              "      <td>0.004129</td>\n",
              "      <td>0.000438</td>\n",
              "      <td>0.012579</td>\n",
              "      <td>0.001065</td>\n",
              "      <td>8</td>\n",
              "      <td>{'n_neighbors': 8}</td>\n",
              "      <td>0.869565</td>\n",
              "      <td>0.893617</td>\n",
              "      <td>0.844444</td>\n",
              "      <td>0.869271</td>\n",
              "      <td>0.020063</td>\n",
              "      <td>11</td>\n",
              "    </tr>\n",
              "    <tr>\n",
              "      <th>8</th>\n",
              "      <td>0.004228</td>\n",
              "      <td>0.000445</td>\n",
              "      <td>0.012186</td>\n",
              "      <td>0.000627</td>\n",
              "      <td>9</td>\n",
              "      <td>{'n_neighbors': 9}</td>\n",
              "      <td>0.881720</td>\n",
              "      <td>0.918367</td>\n",
              "      <td>0.844444</td>\n",
              "      <td>0.881604</td>\n",
              "      <td>0.030160</td>\n",
              "      <td>2</td>\n",
              "    </tr>\n",
              "    <tr>\n",
              "      <th>9</th>\n",
              "      <td>0.004166</td>\n",
              "      <td>0.000164</td>\n",
              "      <td>0.012438</td>\n",
              "      <td>0.000832</td>\n",
              "      <td>10</td>\n",
              "      <td>{'n_neighbors': 10}</td>\n",
              "      <td>0.857143</td>\n",
              "      <td>0.884211</td>\n",
              "      <td>0.831461</td>\n",
              "      <td>0.857670</td>\n",
              "      <td>0.021525</td>\n",
              "      <td>19</td>\n",
              "    </tr>\n",
              "    <tr>\n",
              "      <th>10</th>\n",
              "      <td>0.004760</td>\n",
              "      <td>0.001135</td>\n",
              "      <td>0.012471</td>\n",
              "      <td>0.000139</td>\n",
              "      <td>11</td>\n",
              "      <td>{'n_neighbors': 11}</td>\n",
              "      <td>0.881720</td>\n",
              "      <td>0.907216</td>\n",
              "      <td>0.831461</td>\n",
              "      <td>0.873571</td>\n",
              "      <td>0.031442</td>\n",
              "      <td>7</td>\n",
              "    </tr>\n",
              "    <tr>\n",
              "      <th>11</th>\n",
              "      <td>0.004090</td>\n",
              "      <td>0.000255</td>\n",
              "      <td>0.013079</td>\n",
              "      <td>0.001624</td>\n",
              "      <td>12</td>\n",
              "      <td>{'n_neighbors': 12}</td>\n",
              "      <td>0.857143</td>\n",
              "      <td>0.916667</td>\n",
              "      <td>0.831461</td>\n",
              "      <td>0.868516</td>\n",
              "      <td>0.035685</td>\n",
              "      <td>12</td>\n",
              "    </tr>\n",
              "    <tr>\n",
              "      <th>12</th>\n",
              "      <td>0.005662</td>\n",
              "      <td>0.000979</td>\n",
              "      <td>0.012757</td>\n",
              "      <td>0.000315</td>\n",
              "      <td>13</td>\n",
              "      <td>{'n_neighbors': 13}</td>\n",
              "      <td>0.857143</td>\n",
              "      <td>0.907216</td>\n",
              "      <td>0.831461</td>\n",
              "      <td>0.865358</td>\n",
              "      <td>0.031451</td>\n",
              "      <td>17</td>\n",
              "    </tr>\n",
              "    <tr>\n",
              "      <th>13</th>\n",
              "      <td>0.005528</td>\n",
              "      <td>0.001742</td>\n",
              "      <td>0.013369</td>\n",
              "      <td>0.000730</td>\n",
              "      <td>14</td>\n",
              "      <td>{'n_neighbors': 14}</td>\n",
              "      <td>0.857143</td>\n",
              "      <td>0.916667</td>\n",
              "      <td>0.831461</td>\n",
              "      <td>0.868516</td>\n",
              "      <td>0.035685</td>\n",
              "      <td>12</td>\n",
              "    </tr>\n",
              "    <tr>\n",
              "      <th>14</th>\n",
              "      <td>0.004762</td>\n",
              "      <td>0.000548</td>\n",
              "      <td>0.012839</td>\n",
              "      <td>0.000471</td>\n",
              "      <td>15</td>\n",
              "      <td>{'n_neighbors': 15}</td>\n",
              "      <td>0.869565</td>\n",
              "      <td>0.916667</td>\n",
              "      <td>0.831461</td>\n",
              "      <td>0.872667</td>\n",
              "      <td>0.034832</td>\n",
              "      <td>8</td>\n",
              "    </tr>\n",
              "    <tr>\n",
              "      <th>15</th>\n",
              "      <td>0.004149</td>\n",
              "      <td>0.000478</td>\n",
              "      <td>0.012338</td>\n",
              "      <td>0.000336</td>\n",
              "      <td>16</td>\n",
              "      <td>{'n_neighbors': 16}</td>\n",
              "      <td>0.869565</td>\n",
              "      <td>0.916667</td>\n",
              "      <td>0.818182</td>\n",
              "      <td>0.868263</td>\n",
              "      <td>0.040191</td>\n",
              "      <td>14</td>\n",
              "    </tr>\n",
              "    <tr>\n",
              "      <th>16</th>\n",
              "      <td>0.004660</td>\n",
              "      <td>0.000425</td>\n",
              "      <td>0.012806</td>\n",
              "      <td>0.000381</td>\n",
              "      <td>17</td>\n",
              "      <td>{'n_neighbors': 17}</td>\n",
              "      <td>0.869565</td>\n",
              "      <td>0.897959</td>\n",
              "      <td>0.831461</td>\n",
              "      <td>0.866416</td>\n",
              "      <td>0.027222</td>\n",
              "      <td>16</td>\n",
              "    </tr>\n",
              "    <tr>\n",
              "      <th>17</th>\n",
              "      <td>0.004645</td>\n",
              "      <td>0.000702</td>\n",
              "      <td>0.013033</td>\n",
              "      <td>0.000413</td>\n",
              "      <td>18</td>\n",
              "      <td>{'n_neighbors': 18}</td>\n",
              "      <td>0.869565</td>\n",
              "      <td>0.907216</td>\n",
              "      <td>0.818182</td>\n",
              "      <td>0.865105</td>\n",
              "      <td>0.036462</td>\n",
              "      <td>18</td>\n",
              "    </tr>\n",
              "    <tr>\n",
              "      <th>18</th>\n",
              "      <td>0.003778</td>\n",
              "      <td>0.000399</td>\n",
              "      <td>0.011612</td>\n",
              "      <td>0.002711</td>\n",
              "      <td>19</td>\n",
              "      <td>{'n_neighbors': 19}</td>\n",
              "      <td>0.869565</td>\n",
              "      <td>0.907216</td>\n",
              "      <td>0.831461</td>\n",
              "      <td>0.869509</td>\n",
              "      <td>0.030908</td>\n",
              "      <td>10</td>\n",
              "    </tr>\n",
              "  </tbody>\n",
              "</table>\n",
              "</div>"
            ],
            "text/plain": [
              "    mean_fit_time  std_fit_time  ...  std_test_score  rank_test_score\n",
              "0        0.006009      0.000679  ...        0.011700                6\n",
              "1        0.004136      0.000421  ...        0.021851                3\n",
              "2        0.006581      0.001973  ...        0.020960                4\n",
              "3        0.004125      0.000393  ...        0.020622               15\n",
              "4        0.004192      0.000088  ...        0.011764                1\n",
              "5        0.003962      0.000157  ...        0.015318                9\n",
              "6        0.004255      0.000149  ...        0.020397                5\n",
              "7        0.004129      0.000438  ...        0.020063               11\n",
              "8        0.004228      0.000445  ...        0.030160                2\n",
              "9        0.004166      0.000164  ...        0.021525               19\n",
              "10       0.004760      0.001135  ...        0.031442                7\n",
              "11       0.004090      0.000255  ...        0.035685               12\n",
              "12       0.005662      0.000979  ...        0.031451               17\n",
              "13       0.005528      0.001742  ...        0.035685               12\n",
              "14       0.004762      0.000548  ...        0.034832                8\n",
              "15       0.004149      0.000478  ...        0.040191               14\n",
              "16       0.004660      0.000425  ...        0.027222               16\n",
              "17       0.004645      0.000702  ...        0.036462               18\n",
              "18       0.003778      0.000399  ...        0.030908               10\n",
              "\n",
              "[19 rows x 12 columns]"
            ]
          },
          "metadata": {
            "tags": []
          }
        }
      ]
    },
    {
      "cell_type": "markdown",
      "metadata": {
        "id": "x6ogx7vNcMxT"
      },
      "source": [
        "2- SVM :"
      ]
    },
    {
      "cell_type": "code",
      "metadata": {
        "id": "HcsQl0PBcjn8",
        "colab": {
          "base_uri": "https://localhost:8080/",
          "height": 626
        },
        "outputId": "2e529835-b051-4b3f-9e6f-31504d6d241e"
      },
      "source": [
        "parameters = {'C':[0.01, 0.1, 1, 10, 1000, 1500, 2000]}\n",
        "clf = LinearSVC(random_state=6)\n",
        "tune_model(clf, parameters, features_train_reduced_normalized, labels_train_mapped, features_test_reduced_normalized, labels_test_mapped);"
      ],
      "execution_count": null,
      "outputs": [
        {
          "output_type": "stream",
          "text": [
            "/usr/local/lib/python3.6/dist-packages/sklearn/model_selection/_split.py:1978: FutureWarning: The default value of cv will change from 3 to 5 in version 0.22. Specify it explicitly to silence this warning.\n",
            "  warnings.warn(CV_WARNING, FutureWarning)\n"
          ],
          "name": "stderr"
        },
        {
          "output_type": "stream",
          "text": [
            "Untuned model\n",
            "Accuracy score on testing data: 0.9591\n",
            "F-score on testing data: 0.9431\n",
            "-------------------------------\n",
            "Tuned Model\n",
            "Best accuracy score on the testing data: 0.9649\n",
            "Best F-score on the testing data: 0.9516\n",
            "-------------------------------\n",
            "Best parameters found: {'C': 10}\n",
            "-------------------------------\n"
          ],
          "name": "stdout"
        },
        {
          "output_type": "stream",
          "text": [
            "/usr/local/lib/python3.6/dist-packages/sklearn/svm/base.py:929: ConvergenceWarning: Liblinear failed to converge, increase the number of iterations.\n",
            "  \"the number of iterations.\", ConvergenceWarning)\n"
          ],
          "name": "stderr"
        },
        {
          "output_type": "display_data",
          "data": {
            "text/html": [
              "<div>\n",
              "<style scoped>\n",
              "    .dataframe tbody tr th:only-of-type {\n",
              "        vertical-align: middle;\n",
              "    }\n",
              "\n",
              "    .dataframe tbody tr th {\n",
              "        vertical-align: top;\n",
              "    }\n",
              "\n",
              "    .dataframe thead th {\n",
              "        text-align: right;\n",
              "    }\n",
              "</style>\n",
              "<table border=\"1\" class=\"dataframe\">\n",
              "  <thead>\n",
              "    <tr style=\"text-align: right;\">\n",
              "      <th></th>\n",
              "      <th>mean_fit_time</th>\n",
              "      <th>std_fit_time</th>\n",
              "      <th>mean_score_time</th>\n",
              "      <th>std_score_time</th>\n",
              "      <th>param_C</th>\n",
              "      <th>params</th>\n",
              "      <th>split0_test_score</th>\n",
              "      <th>split1_test_score</th>\n",
              "      <th>split2_test_score</th>\n",
              "      <th>mean_test_score</th>\n",
              "      <th>std_test_score</th>\n",
              "      <th>rank_test_score</th>\n",
              "    </tr>\n",
              "  </thead>\n",
              "  <tbody>\n",
              "    <tr>\n",
              "      <th>0</th>\n",
              "      <td>0.004831</td>\n",
              "      <td>0.000459</td>\n",
              "      <td>0.003048</td>\n",
              "      <td>0.000227</td>\n",
              "      <td>0.01</td>\n",
              "      <td>{'C': 0.01}</td>\n",
              "      <td>0.918367</td>\n",
              "      <td>0.938776</td>\n",
              "      <td>0.881720</td>\n",
              "      <td>0.913033</td>\n",
              "      <td>0.023583</td>\n",
              "      <td>6</td>\n",
              "    </tr>\n",
              "    <tr>\n",
              "      <th>1</th>\n",
              "      <td>0.005248</td>\n",
              "      <td>0.001117</td>\n",
              "      <td>0.002789</td>\n",
              "      <td>0.000055</td>\n",
              "      <td>0.1</td>\n",
              "      <td>{'C': 0.1}</td>\n",
              "      <td>0.907216</td>\n",
              "      <td>0.950495</td>\n",
              "      <td>0.884211</td>\n",
              "      <td>0.914049</td>\n",
              "      <td>0.027473</td>\n",
              "      <td>5</td>\n",
              "    </tr>\n",
              "    <tr>\n",
              "      <th>2</th>\n",
              "      <td>0.008538</td>\n",
              "      <td>0.003854</td>\n",
              "      <td>0.002926</td>\n",
              "      <td>0.000131</td>\n",
              "      <td>1</td>\n",
              "      <td>{'C': 1}</td>\n",
              "      <td>0.918367</td>\n",
              "      <td>0.960784</td>\n",
              "      <td>0.905263</td>\n",
              "      <td>0.928196</td>\n",
              "      <td>0.023698</td>\n",
              "      <td>3</td>\n",
              "    </tr>\n",
              "    <tr>\n",
              "      <th>3</th>\n",
              "      <td>0.010166</td>\n",
              "      <td>0.002479</td>\n",
              "      <td>0.002820</td>\n",
              "      <td>0.000194</td>\n",
              "      <td>10</td>\n",
              "      <td>{'C': 10}</td>\n",
              "      <td>0.929293</td>\n",
              "      <td>0.969697</td>\n",
              "      <td>0.905263</td>\n",
              "      <td>0.934825</td>\n",
              "      <td>0.026579</td>\n",
              "      <td>1</td>\n",
              "    </tr>\n",
              "    <tr>\n",
              "      <th>4</th>\n",
              "      <td>0.008473</td>\n",
              "      <td>0.001413</td>\n",
              "      <td>0.002700</td>\n",
              "      <td>0.000142</td>\n",
              "      <td>1000</td>\n",
              "      <td>{'C': 1000}</td>\n",
              "      <td>0.938776</td>\n",
              "      <td>0.864865</td>\n",
              "      <td>0.918367</td>\n",
              "      <td>0.907308</td>\n",
              "      <td>0.031200</td>\n",
              "      <td>7</td>\n",
              "    </tr>\n",
              "    <tr>\n",
              "      <th>5</th>\n",
              "      <td>0.010052</td>\n",
              "      <td>0.000401</td>\n",
              "      <td>0.002679</td>\n",
              "      <td>0.000091</td>\n",
              "      <td>1500</td>\n",
              "      <td>{'C': 1500}</td>\n",
              "      <td>0.938776</td>\n",
              "      <td>0.947368</td>\n",
              "      <td>0.909091</td>\n",
              "      <td>0.931802</td>\n",
              "      <td>0.016380</td>\n",
              "      <td>2</td>\n",
              "    </tr>\n",
              "    <tr>\n",
              "      <th>6</th>\n",
              "      <td>0.008002</td>\n",
              "      <td>0.001193</td>\n",
              "      <td>0.002821</td>\n",
              "      <td>0.000090</td>\n",
              "      <td>2000</td>\n",
              "      <td>{'C': 2000}</td>\n",
              "      <td>0.938776</td>\n",
              "      <td>0.947368</td>\n",
              "      <td>0.893617</td>\n",
              "      <td>0.926670</td>\n",
              "      <td>0.023547</td>\n",
              "      <td>4</td>\n",
              "    </tr>\n",
              "  </tbody>\n",
              "</table>\n",
              "</div>"
            ],
            "text/plain": [
              "   mean_fit_time  std_fit_time  ...  std_test_score  rank_test_score\n",
              "0       0.004831      0.000459  ...        0.023583                6\n",
              "1       0.005248      0.001117  ...        0.027473                5\n",
              "2       0.008538      0.003854  ...        0.023698                3\n",
              "3       0.010166      0.002479  ...        0.026579                1\n",
              "4       0.008473      0.001413  ...        0.031200                7\n",
              "5       0.010052      0.000401  ...        0.016380                2\n",
              "6       0.008002      0.001193  ...        0.023547                4\n",
              "\n",
              "[7 rows x 12 columns]"
            ]
          },
          "metadata": {
            "tags": []
          }
        }
      ]
    },
    {
      "cell_type": "markdown",
      "metadata": {
        "id": "CMVZ7BxVcNCP"
      },
      "source": [
        "3- Non-linear SVM:"
      ]
    },
    {
      "cell_type": "code",
      "metadata": {
        "id": "R2i8GtCwclRo",
        "colab": {
          "base_uri": "https://localhost:8080/",
          "height": 1000
        },
        "outputId": "a9e5b394-0619-4b22-a717-9e60aae44aad"
      },
      "source": [
        "parameters = {'C':[0.01, 0.1, 1, 10, 1000, 1500, 2000], 'gamma':[0.01,0.1,1,1.1,2]}\n",
        "clf = svm.SVC(kernel='rbf')\n",
        "tune_model(clf, parameters, features_train_reduced_normalized, labels_train_mapped, features_test_reduced_normalized, labels_test_mapped);"
      ],
      "execution_count": null,
      "outputs": [
        {
          "output_type": "stream",
          "text": [
            "/usr/local/lib/python3.6/dist-packages/sklearn/model_selection/_split.py:1978: FutureWarning: The default value of cv will change from 3 to 5 in version 0.22. Specify it explicitly to silence this warning.\n",
            "  warnings.warn(CV_WARNING, FutureWarning)\n"
          ],
          "name": "stderr"
        },
        {
          "output_type": "stream",
          "text": [
            "Untuned model\n",
            "Accuracy score on testing data: 0.9708\n",
            "F-score on testing data: 0.9600\n",
            "-------------------------------\n",
            "Tuned Model\n",
            "Best accuracy score on the testing data: 0.9708\n",
            "Best F-score on the testing data: 0.9600\n",
            "-------------------------------\n",
            "Best parameters found: {'C': 1, 'gamma': 0.1}\n",
            "-------------------------------\n"
          ],
          "name": "stdout"
        },
        {
          "output_type": "display_data",
          "data": {
            "text/html": [
              "<div>\n",
              "<style scoped>\n",
              "    .dataframe tbody tr th:only-of-type {\n",
              "        vertical-align: middle;\n",
              "    }\n",
              "\n",
              "    .dataframe tbody tr th {\n",
              "        vertical-align: top;\n",
              "    }\n",
              "\n",
              "    .dataframe thead th {\n",
              "        text-align: right;\n",
              "    }\n",
              "</style>\n",
              "<table border=\"1\" class=\"dataframe\">\n",
              "  <thead>\n",
              "    <tr style=\"text-align: right;\">\n",
              "      <th></th>\n",
              "      <th>mean_fit_time</th>\n",
              "      <th>std_fit_time</th>\n",
              "      <th>mean_score_time</th>\n",
              "      <th>std_score_time</th>\n",
              "      <th>param_C</th>\n",
              "      <th>param_gamma</th>\n",
              "      <th>params</th>\n",
              "      <th>split0_test_score</th>\n",
              "      <th>split1_test_score</th>\n",
              "      <th>split2_test_score</th>\n",
              "      <th>mean_test_score</th>\n",
              "      <th>std_test_score</th>\n",
              "      <th>rank_test_score</th>\n",
              "    </tr>\n",
              "  </thead>\n",
              "  <tbody>\n",
              "    <tr>\n",
              "      <th>0</th>\n",
              "      <td>0.008732</td>\n",
              "      <td>0.001022</td>\n",
              "      <td>0.005346</td>\n",
              "      <td>0.000602</td>\n",
              "      <td>0.01</td>\n",
              "      <td>0.01</td>\n",
              "      <td>{'C': 0.01, 'gamma': 0.01}</td>\n",
              "      <td>0.000000</td>\n",
              "      <td>0.000000</td>\n",
              "      <td>0.000000</td>\n",
              "      <td>0.000000</td>\n",
              "      <td>0.000000</td>\n",
              "      <td>28</td>\n",
              "    </tr>\n",
              "    <tr>\n",
              "      <th>1</th>\n",
              "      <td>0.007765</td>\n",
              "      <td>0.001464</td>\n",
              "      <td>0.004277</td>\n",
              "      <td>0.000138</td>\n",
              "      <td>0.01</td>\n",
              "      <td>0.1</td>\n",
              "      <td>{'C': 0.01, 'gamma': 0.1}</td>\n",
              "      <td>0.000000</td>\n",
              "      <td>0.000000</td>\n",
              "      <td>0.000000</td>\n",
              "      <td>0.000000</td>\n",
              "      <td>0.000000</td>\n",
              "      <td>28</td>\n",
              "    </tr>\n",
              "    <tr>\n",
              "      <th>2</th>\n",
              "      <td>0.008180</td>\n",
              "      <td>0.001358</td>\n",
              "      <td>0.005812</td>\n",
              "      <td>0.001932</td>\n",
              "      <td>0.01</td>\n",
              "      <td>1</td>\n",
              "      <td>{'C': 0.01, 'gamma': 1}</td>\n",
              "      <td>0.000000</td>\n",
              "      <td>0.000000</td>\n",
              "      <td>0.000000</td>\n",
              "      <td>0.000000</td>\n",
              "      <td>0.000000</td>\n",
              "      <td>28</td>\n",
              "    </tr>\n",
              "    <tr>\n",
              "      <th>3</th>\n",
              "      <td>0.008630</td>\n",
              "      <td>0.001631</td>\n",
              "      <td>0.004425</td>\n",
              "      <td>0.000079</td>\n",
              "      <td>0.01</td>\n",
              "      <td>1.1</td>\n",
              "      <td>{'C': 0.01, 'gamma': 1.1}</td>\n",
              "      <td>0.000000</td>\n",
              "      <td>0.000000</td>\n",
              "      <td>0.000000</td>\n",
              "      <td>0.000000</td>\n",
              "      <td>0.000000</td>\n",
              "      <td>28</td>\n",
              "    </tr>\n",
              "    <tr>\n",
              "      <th>4</th>\n",
              "      <td>0.007873</td>\n",
              "      <td>0.000192</td>\n",
              "      <td>0.005560</td>\n",
              "      <td>0.001285</td>\n",
              "      <td>0.01</td>\n",
              "      <td>2</td>\n",
              "      <td>{'C': 0.01, 'gamma': 2}</td>\n",
              "      <td>0.000000</td>\n",
              "      <td>0.000000</td>\n",
              "      <td>0.000000</td>\n",
              "      <td>0.000000</td>\n",
              "      <td>0.000000</td>\n",
              "      <td>28</td>\n",
              "    </tr>\n",
              "    <tr>\n",
              "      <th>5</th>\n",
              "      <td>0.009156</td>\n",
              "      <td>0.002482</td>\n",
              "      <td>0.004839</td>\n",
              "      <td>0.000895</td>\n",
              "      <td>0.1</td>\n",
              "      <td>0.01</td>\n",
              "      <td>{'C': 0.1, 'gamma': 0.01}</td>\n",
              "      <td>0.039216</td>\n",
              "      <td>0.000000</td>\n",
              "      <td>0.000000</td>\n",
              "      <td>0.013105</td>\n",
              "      <td>0.018498</td>\n",
              "      <td>27</td>\n",
              "    </tr>\n",
              "    <tr>\n",
              "      <th>6</th>\n",
              "      <td>0.007518</td>\n",
              "      <td>0.001647</td>\n",
              "      <td>0.003958</td>\n",
              "      <td>0.000064</td>\n",
              "      <td>0.1</td>\n",
              "      <td>0.1</td>\n",
              "      <td>{'C': 0.1, 'gamma': 0.1}</td>\n",
              "      <td>0.851064</td>\n",
              "      <td>0.929293</td>\n",
              "      <td>0.860215</td>\n",
              "      <td>0.880241</td>\n",
              "      <td>0.034950</td>\n",
              "      <td>10</td>\n",
              "    </tr>\n",
              "    <tr>\n",
              "      <th>7</th>\n",
              "      <td>0.009526</td>\n",
              "      <td>0.002926</td>\n",
              "      <td>0.004314</td>\n",
              "      <td>0.000177</td>\n",
              "      <td>0.1</td>\n",
              "      <td>1</td>\n",
              "      <td>{'C': 0.1, 'gamma': 1}</td>\n",
              "      <td>0.000000</td>\n",
              "      <td>0.000000</td>\n",
              "      <td>0.000000</td>\n",
              "      <td>0.000000</td>\n",
              "      <td>0.000000</td>\n",
              "      <td>28</td>\n",
              "    </tr>\n",
              "    <tr>\n",
              "      <th>8</th>\n",
              "      <td>0.009810</td>\n",
              "      <td>0.003260</td>\n",
              "      <td>0.004332</td>\n",
              "      <td>0.000093</td>\n",
              "      <td>0.1</td>\n",
              "      <td>1.1</td>\n",
              "      <td>{'C': 0.1, 'gamma': 1.1}</td>\n",
              "      <td>0.000000</td>\n",
              "      <td>0.000000</td>\n",
              "      <td>0.000000</td>\n",
              "      <td>0.000000</td>\n",
              "      <td>0.000000</td>\n",
              "      <td>28</td>\n",
              "    </tr>\n",
              "    <tr>\n",
              "      <th>9</th>\n",
              "      <td>0.008096</td>\n",
              "      <td>0.000113</td>\n",
              "      <td>0.004674</td>\n",
              "      <td>0.000143</td>\n",
              "      <td>0.1</td>\n",
              "      <td>2</td>\n",
              "      <td>{'C': 0.1, 'gamma': 2}</td>\n",
              "      <td>0.000000</td>\n",
              "      <td>0.000000</td>\n",
              "      <td>0.000000</td>\n",
              "      <td>0.000000</td>\n",
              "      <td>0.000000</td>\n",
              "      <td>28</td>\n",
              "    </tr>\n",
              "    <tr>\n",
              "      <th>10</th>\n",
              "      <td>0.005247</td>\n",
              "      <td>0.000139</td>\n",
              "      <td>0.006883</td>\n",
              "      <td>0.004955</td>\n",
              "      <td>1</td>\n",
              "      <td>0.01</td>\n",
              "      <td>{'C': 1, 'gamma': 0.01}</td>\n",
              "      <td>0.879121</td>\n",
              "      <td>0.872340</td>\n",
              "      <td>0.860465</td>\n",
              "      <td>0.870668</td>\n",
              "      <td>0.007703</td>\n",
              "      <td>11</td>\n",
              "    </tr>\n",
              "    <tr>\n",
              "      <th>11</th>\n",
              "      <td>0.005316</td>\n",
              "      <td>0.000130</td>\n",
              "      <td>0.003413</td>\n",
              "      <td>0.000106</td>\n",
              "      <td>1</td>\n",
              "      <td>0.1</td>\n",
              "      <td>{'C': 1, 'gamma': 0.1}</td>\n",
              "      <td>0.941176</td>\n",
              "      <td>0.980392</td>\n",
              "      <td>0.884211</td>\n",
              "      <td>0.935388</td>\n",
              "      <td>0.039455</td>\n",
              "      <td>1</td>\n",
              "    </tr>\n",
              "    <tr>\n",
              "      <th>12</th>\n",
              "      <td>0.008288</td>\n",
              "      <td>0.000222</td>\n",
              "      <td>0.004326</td>\n",
              "      <td>0.000097</td>\n",
              "      <td>1</td>\n",
              "      <td>1</td>\n",
              "      <td>{'C': 1, 'gamma': 1}</td>\n",
              "      <td>0.876190</td>\n",
              "      <td>0.852174</td>\n",
              "      <td>0.823529</td>\n",
              "      <td>0.850699</td>\n",
              "      <td>0.021511</td>\n",
              "      <td>13</td>\n",
              "    </tr>\n",
              "    <tr>\n",
              "      <th>13</th>\n",
              "      <td>0.011480</td>\n",
              "      <td>0.004598</td>\n",
              "      <td>0.004495</td>\n",
              "      <td>0.000121</td>\n",
              "      <td>1</td>\n",
              "      <td>1.1</td>\n",
              "      <td>{'C': 1, 'gamma': 1.1}</td>\n",
              "      <td>0.884615</td>\n",
              "      <td>0.852174</td>\n",
              "      <td>0.823529</td>\n",
              "      <td>0.853515</td>\n",
              "      <td>0.024940</td>\n",
              "      <td>12</td>\n",
              "    </tr>\n",
              "    <tr>\n",
              "      <th>14</th>\n",
              "      <td>0.008516</td>\n",
              "      <td>0.000210</td>\n",
              "      <td>0.004548</td>\n",
              "      <td>0.000141</td>\n",
              "      <td>1</td>\n",
              "      <td>2</td>\n",
              "      <td>{'C': 1, 'gamma': 2}</td>\n",
              "      <td>0.000000</td>\n",
              "      <td>0.000000</td>\n",
              "      <td>0.040000</td>\n",
              "      <td>0.013266</td>\n",
              "      <td>0.018832</td>\n",
              "      <td>26</td>\n",
              "    </tr>\n",
              "    <tr>\n",
              "      <th>15</th>\n",
              "      <td>0.004736</td>\n",
              "      <td>0.000205</td>\n",
              "      <td>0.003025</td>\n",
              "      <td>0.000113</td>\n",
              "      <td>10</td>\n",
              "      <td>0.01</td>\n",
              "      <td>{'C': 10, 'gamma': 0.01}</td>\n",
              "      <td>0.938776</td>\n",
              "      <td>0.960000</td>\n",
              "      <td>0.903226</td>\n",
              "      <td>0.934078</td>\n",
              "      <td>0.023401</td>\n",
              "      <td>2</td>\n",
              "    </tr>\n",
              "    <tr>\n",
              "      <th>16</th>\n",
              "      <td>0.005059</td>\n",
              "      <td>0.000299</td>\n",
              "      <td>0.003039</td>\n",
              "      <td>0.000165</td>\n",
              "      <td>10</td>\n",
              "      <td>0.1</td>\n",
              "      <td>{'C': 10, 'gamma': 0.1}</td>\n",
              "      <td>0.897959</td>\n",
              "      <td>0.923077</td>\n",
              "      <td>0.903226</td>\n",
              "      <td>0.908100</td>\n",
              "      <td>0.010826</td>\n",
              "      <td>9</td>\n",
              "    </tr>\n",
              "    <tr>\n",
              "      <th>17</th>\n",
              "      <td>0.012817</td>\n",
              "      <td>0.003685</td>\n",
              "      <td>0.004308</td>\n",
              "      <td>0.000049</td>\n",
              "      <td>10</td>\n",
              "      <td>1</td>\n",
              "      <td>{'C': 10, 'gamma': 1}</td>\n",
              "      <td>0.876190</td>\n",
              "      <td>0.852174</td>\n",
              "      <td>0.823529</td>\n",
              "      <td>0.850699</td>\n",
              "      <td>0.021511</td>\n",
              "      <td>13</td>\n",
              "    </tr>\n",
              "    <tr>\n",
              "      <th>18</th>\n",
              "      <td>0.008632</td>\n",
              "      <td>0.000061</td>\n",
              "      <td>0.004245</td>\n",
              "      <td>0.000065</td>\n",
              "      <td>10</td>\n",
              "      <td>1.1</td>\n",
              "      <td>{'C': 10, 'gamma': 1.1}</td>\n",
              "      <td>0.876190</td>\n",
              "      <td>0.852174</td>\n",
              "      <td>0.823529</td>\n",
              "      <td>0.850699</td>\n",
              "      <td>0.021511</td>\n",
              "      <td>13</td>\n",
              "    </tr>\n",
              "    <tr>\n",
              "      <th>19</th>\n",
              "      <td>0.009290</td>\n",
              "      <td>0.000117</td>\n",
              "      <td>0.005592</td>\n",
              "      <td>0.001770</td>\n",
              "      <td>10</td>\n",
              "      <td>2</td>\n",
              "      <td>{'C': 10, 'gamma': 2}</td>\n",
              "      <td>0.076923</td>\n",
              "      <td>0.039216</td>\n",
              "      <td>0.040000</td>\n",
              "      <td>0.052077</td>\n",
              "      <td>0.017605</td>\n",
              "      <td>22</td>\n",
              "    </tr>\n",
              "    <tr>\n",
              "      <th>20</th>\n",
              "      <td>0.006315</td>\n",
              "      <td>0.001156</td>\n",
              "      <td>0.002712</td>\n",
              "      <td>0.000158</td>\n",
              "      <td>1000</td>\n",
              "      <td>0.01</td>\n",
              "      <td>{'C': 1000, 'gamma': 0.01}</td>\n",
              "      <td>0.907216</td>\n",
              "      <td>0.942308</td>\n",
              "      <td>0.903226</td>\n",
              "      <td>0.917619</td>\n",
              "      <td>0.017566</td>\n",
              "      <td>5</td>\n",
              "    </tr>\n",
              "    <tr>\n",
              "      <th>21</th>\n",
              "      <td>0.004974</td>\n",
              "      <td>0.000178</td>\n",
              "      <td>0.002929</td>\n",
              "      <td>0.000160</td>\n",
              "      <td>1000</td>\n",
              "      <td>0.1</td>\n",
              "      <td>{'C': 1000, 'gamma': 0.1}</td>\n",
              "      <td>0.918367</td>\n",
              "      <td>0.930693</td>\n",
              "      <td>0.893617</td>\n",
              "      <td>0.914278</td>\n",
              "      <td>0.015402</td>\n",
              "      <td>6</td>\n",
              "    </tr>\n",
              "    <tr>\n",
              "      <th>22</th>\n",
              "      <td>0.008593</td>\n",
              "      <td>0.000251</td>\n",
              "      <td>0.004437</td>\n",
              "      <td>0.000113</td>\n",
              "      <td>1000</td>\n",
              "      <td>1</td>\n",
              "      <td>{'C': 1000, 'gamma': 1}</td>\n",
              "      <td>0.876190</td>\n",
              "      <td>0.852174</td>\n",
              "      <td>0.823529</td>\n",
              "      <td>0.850699</td>\n",
              "      <td>0.021511</td>\n",
              "      <td>13</td>\n",
              "    </tr>\n",
              "    <tr>\n",
              "      <th>23</th>\n",
              "      <td>0.008797</td>\n",
              "      <td>0.000126</td>\n",
              "      <td>0.004588</td>\n",
              "      <td>0.000117</td>\n",
              "      <td>1000</td>\n",
              "      <td>1.1</td>\n",
              "      <td>{'C': 1000, 'gamma': 1.1}</td>\n",
              "      <td>0.876190</td>\n",
              "      <td>0.852174</td>\n",
              "      <td>0.823529</td>\n",
              "      <td>0.850699</td>\n",
              "      <td>0.021511</td>\n",
              "      <td>13</td>\n",
              "    </tr>\n",
              "    <tr>\n",
              "      <th>24</th>\n",
              "      <td>0.009271</td>\n",
              "      <td>0.000084</td>\n",
              "      <td>0.004559</td>\n",
              "      <td>0.000171</td>\n",
              "      <td>1000</td>\n",
              "      <td>2</td>\n",
              "      <td>{'C': 1000, 'gamma': 2}</td>\n",
              "      <td>0.076923</td>\n",
              "      <td>0.039216</td>\n",
              "      <td>0.040000</td>\n",
              "      <td>0.052077</td>\n",
              "      <td>0.017605</td>\n",
              "      <td>22</td>\n",
              "    </tr>\n",
              "    <tr>\n",
              "      <th>25</th>\n",
              "      <td>0.006549</td>\n",
              "      <td>0.000991</td>\n",
              "      <td>0.002712</td>\n",
              "      <td>0.000056</td>\n",
              "      <td>1500</td>\n",
              "      <td>0.01</td>\n",
              "      <td>{'C': 1500, 'gamma': 0.01}</td>\n",
              "      <td>0.907216</td>\n",
              "      <td>0.943396</td>\n",
              "      <td>0.903226</td>\n",
              "      <td>0.917983</td>\n",
              "      <td>0.018077</td>\n",
              "      <td>4</td>\n",
              "    </tr>\n",
              "    <tr>\n",
              "      <th>26</th>\n",
              "      <td>0.005244</td>\n",
              "      <td>0.000185</td>\n",
              "      <td>0.002782</td>\n",
              "      <td>0.000010</td>\n",
              "      <td>1500</td>\n",
              "      <td>0.1</td>\n",
              "      <td>{'C': 1500, 'gamma': 0.1}</td>\n",
              "      <td>0.918367</td>\n",
              "      <td>0.930693</td>\n",
              "      <td>0.893617</td>\n",
              "      <td>0.914278</td>\n",
              "      <td>0.015402</td>\n",
              "      <td>6</td>\n",
              "    </tr>\n",
              "    <tr>\n",
              "      <th>27</th>\n",
              "      <td>0.009740</td>\n",
              "      <td>0.001384</td>\n",
              "      <td>0.005488</td>\n",
              "      <td>0.001436</td>\n",
              "      <td>1500</td>\n",
              "      <td>1</td>\n",
              "      <td>{'C': 1500, 'gamma': 1}</td>\n",
              "      <td>0.876190</td>\n",
              "      <td>0.852174</td>\n",
              "      <td>0.823529</td>\n",
              "      <td>0.850699</td>\n",
              "      <td>0.021511</td>\n",
              "      <td>13</td>\n",
              "    </tr>\n",
              "    <tr>\n",
              "      <th>28</th>\n",
              "      <td>0.009853</td>\n",
              "      <td>0.001383</td>\n",
              "      <td>0.004304</td>\n",
              "      <td>0.000027</td>\n",
              "      <td>1500</td>\n",
              "      <td>1.1</td>\n",
              "      <td>{'C': 1500, 'gamma': 1.1}</td>\n",
              "      <td>0.876190</td>\n",
              "      <td>0.852174</td>\n",
              "      <td>0.823529</td>\n",
              "      <td>0.850699</td>\n",
              "      <td>0.021511</td>\n",
              "      <td>13</td>\n",
              "    </tr>\n",
              "    <tr>\n",
              "      <th>29</th>\n",
              "      <td>0.010305</td>\n",
              "      <td>0.001310</td>\n",
              "      <td>0.005681</td>\n",
              "      <td>0.001611</td>\n",
              "      <td>1500</td>\n",
              "      <td>2</td>\n",
              "      <td>{'C': 1500, 'gamma': 2}</td>\n",
              "      <td>0.076923</td>\n",
              "      <td>0.039216</td>\n",
              "      <td>0.040000</td>\n",
              "      <td>0.052077</td>\n",
              "      <td>0.017605</td>\n",
              "      <td>22</td>\n",
              "    </tr>\n",
              "    <tr>\n",
              "      <th>30</th>\n",
              "      <td>0.008174</td>\n",
              "      <td>0.002410</td>\n",
              "      <td>0.003931</td>\n",
              "      <td>0.001473</td>\n",
              "      <td>2000</td>\n",
              "      <td>0.01</td>\n",
              "      <td>{'C': 2000, 'gamma': 0.01}</td>\n",
              "      <td>0.918367</td>\n",
              "      <td>0.942308</td>\n",
              "      <td>0.903226</td>\n",
              "      <td>0.921346</td>\n",
              "      <td>0.016084</td>\n",
              "      <td>3</td>\n",
              "    </tr>\n",
              "    <tr>\n",
              "      <th>31</th>\n",
              "      <td>0.006244</td>\n",
              "      <td>0.001513</td>\n",
              "      <td>0.004118</td>\n",
              "      <td>0.001432</td>\n",
              "      <td>2000</td>\n",
              "      <td>0.1</td>\n",
              "      <td>{'C': 2000, 'gamma': 0.1}</td>\n",
              "      <td>0.918367</td>\n",
              "      <td>0.930693</td>\n",
              "      <td>0.893617</td>\n",
              "      <td>0.914278</td>\n",
              "      <td>0.015402</td>\n",
              "      <td>6</td>\n",
              "    </tr>\n",
              "    <tr>\n",
              "      <th>32</th>\n",
              "      <td>0.010039</td>\n",
              "      <td>0.000894</td>\n",
              "      <td>0.004316</td>\n",
              "      <td>0.000353</td>\n",
              "      <td>2000</td>\n",
              "      <td>1</td>\n",
              "      <td>{'C': 2000, 'gamma': 1}</td>\n",
              "      <td>0.876190</td>\n",
              "      <td>0.852174</td>\n",
              "      <td>0.823529</td>\n",
              "      <td>0.850699</td>\n",
              "      <td>0.021511</td>\n",
              "      <td>13</td>\n",
              "    </tr>\n",
              "    <tr>\n",
              "      <th>33</th>\n",
              "      <td>0.008782</td>\n",
              "      <td>0.000223</td>\n",
              "      <td>0.005518</td>\n",
              "      <td>0.001414</td>\n",
              "      <td>2000</td>\n",
              "      <td>1.1</td>\n",
              "      <td>{'C': 2000, 'gamma': 1.1}</td>\n",
              "      <td>0.876190</td>\n",
              "      <td>0.852174</td>\n",
              "      <td>0.823529</td>\n",
              "      <td>0.850699</td>\n",
              "      <td>0.021511</td>\n",
              "      <td>13</td>\n",
              "    </tr>\n",
              "    <tr>\n",
              "      <th>34</th>\n",
              "      <td>0.008729</td>\n",
              "      <td>0.001035</td>\n",
              "      <td>0.004009</td>\n",
              "      <td>0.000699</td>\n",
              "      <td>2000</td>\n",
              "      <td>2</td>\n",
              "      <td>{'C': 2000, 'gamma': 2}</td>\n",
              "      <td>0.076923</td>\n",
              "      <td>0.039216</td>\n",
              "      <td>0.040000</td>\n",
              "      <td>0.052077</td>\n",
              "      <td>0.017605</td>\n",
              "      <td>22</td>\n",
              "    </tr>\n",
              "  </tbody>\n",
              "</table>\n",
              "</div>"
            ],
            "text/plain": [
              "    mean_fit_time  std_fit_time  ...  std_test_score  rank_test_score\n",
              "0        0.008732      0.001022  ...        0.000000               28\n",
              "1        0.007765      0.001464  ...        0.000000               28\n",
              "2        0.008180      0.001358  ...        0.000000               28\n",
              "3        0.008630      0.001631  ...        0.000000               28\n",
              "4        0.007873      0.000192  ...        0.000000               28\n",
              "5        0.009156      0.002482  ...        0.018498               27\n",
              "6        0.007518      0.001647  ...        0.034950               10\n",
              "7        0.009526      0.002926  ...        0.000000               28\n",
              "8        0.009810      0.003260  ...        0.000000               28\n",
              "9        0.008096      0.000113  ...        0.000000               28\n",
              "10       0.005247      0.000139  ...        0.007703               11\n",
              "11       0.005316      0.000130  ...        0.039455                1\n",
              "12       0.008288      0.000222  ...        0.021511               13\n",
              "13       0.011480      0.004598  ...        0.024940               12\n",
              "14       0.008516      0.000210  ...        0.018832               26\n",
              "15       0.004736      0.000205  ...        0.023401                2\n",
              "16       0.005059      0.000299  ...        0.010826                9\n",
              "17       0.012817      0.003685  ...        0.021511               13\n",
              "18       0.008632      0.000061  ...        0.021511               13\n",
              "19       0.009290      0.000117  ...        0.017605               22\n",
              "20       0.006315      0.001156  ...        0.017566                5\n",
              "21       0.004974      0.000178  ...        0.015402                6\n",
              "22       0.008593      0.000251  ...        0.021511               13\n",
              "23       0.008797      0.000126  ...        0.021511               13\n",
              "24       0.009271      0.000084  ...        0.017605               22\n",
              "25       0.006549      0.000991  ...        0.018077                4\n",
              "26       0.005244      0.000185  ...        0.015402                6\n",
              "27       0.009740      0.001384  ...        0.021511               13\n",
              "28       0.009853      0.001383  ...        0.021511               13\n",
              "29       0.010305      0.001310  ...        0.017605               22\n",
              "30       0.008174      0.002410  ...        0.016084                3\n",
              "31       0.006244      0.001513  ...        0.015402                6\n",
              "32       0.010039      0.000894  ...        0.021511               13\n",
              "33       0.008782      0.000223  ...        0.021511               13\n",
              "34       0.008729      0.001035  ...        0.017605               22\n",
              "\n",
              "[35 rows x 13 columns]"
            ]
          },
          "metadata": {
            "tags": []
          }
        }
      ]
    },
    {
      "cell_type": "markdown",
      "metadata": {
        "id": "0D_LRtXlcMt9"
      },
      "source": [
        "4- Logistic Regression :"
      ]
    },
    {
      "cell_type": "code",
      "metadata": {
        "id": "fmBUomTq_B8V",
        "colab": {
          "base_uri": "https://localhost:8080/",
          "height": 694
        },
        "outputId": "6394feb8-8e76-4042-d75a-6a2f9308da20"
      },
      "source": [
        "parameters = {'C':[0.01, 0.1, 1, 10, 1000,1500,2000]}\n",
        "clf = LogisticRegression()\n",
        "tune_model(clf, parameters, features_train_reduced_normalized, labels_train_mapped, features_test_reduced_normalized, labels_test_mapped);"
      ],
      "execution_count": null,
      "outputs": [
        {
          "output_type": "stream",
          "text": [
            "/usr/local/lib/python3.6/dist-packages/sklearn/model_selection/_split.py:1978: FutureWarning: The default value of cv will change from 3 to 5 in version 0.22. Specify it explicitly to silence this warning.\n",
            "  warnings.warn(CV_WARNING, FutureWarning)\n"
          ],
          "name": "stderr"
        },
        {
          "output_type": "stream",
          "text": [
            "Untuned model\n",
            "Accuracy score on testing data: 0.9649\n",
            "F-score on testing data: 0.9508\n",
            "-------------------------------\n",
            "Tuned Model\n",
            "Best accuracy score on the testing data: 0.9649\n",
            "Best F-score on the testing data: 0.9516\n",
            "-------------------------------\n",
            "Best parameters found: {'C': 1000}\n",
            "-------------------------------\n"
          ],
          "name": "stdout"
        },
        {
          "output_type": "stream",
          "text": [
            "/usr/local/lib/python3.6/dist-packages/sklearn/linear_model/logistic.py:432: FutureWarning: Default solver will be changed to 'lbfgs' in 0.22. Specify a solver to silence this warning.\n",
            "  FutureWarning)\n",
            "/usr/local/lib/python3.6/dist-packages/sklearn/linear_model/logistic.py:432: FutureWarning: Default solver will be changed to 'lbfgs' in 0.22. Specify a solver to silence this warning.\n",
            "  FutureWarning)\n"
          ],
          "name": "stderr"
        },
        {
          "output_type": "display_data",
          "data": {
            "text/html": [
              "<div>\n",
              "<style scoped>\n",
              "    .dataframe tbody tr th:only-of-type {\n",
              "        vertical-align: middle;\n",
              "    }\n",
              "\n",
              "    .dataframe tbody tr th {\n",
              "        vertical-align: top;\n",
              "    }\n",
              "\n",
              "    .dataframe thead th {\n",
              "        text-align: right;\n",
              "    }\n",
              "</style>\n",
              "<table border=\"1\" class=\"dataframe\">\n",
              "  <thead>\n",
              "    <tr style=\"text-align: right;\">\n",
              "      <th></th>\n",
              "      <th>mean_fit_time</th>\n",
              "      <th>std_fit_time</th>\n",
              "      <th>mean_score_time</th>\n",
              "      <th>std_score_time</th>\n",
              "      <th>param_C</th>\n",
              "      <th>params</th>\n",
              "      <th>split0_test_score</th>\n",
              "      <th>split1_test_score</th>\n",
              "      <th>split2_test_score</th>\n",
              "      <th>mean_test_score</th>\n",
              "      <th>std_test_score</th>\n",
              "      <th>rank_test_score</th>\n",
              "    </tr>\n",
              "  </thead>\n",
              "  <tbody>\n",
              "    <tr>\n",
              "      <th>0</th>\n",
              "      <td>0.004825</td>\n",
              "      <td>0.000879</td>\n",
              "      <td>0.003038</td>\n",
              "      <td>0.000140</td>\n",
              "      <td>0.01</td>\n",
              "      <td>{'C': 0.01}</td>\n",
              "      <td>0.916667</td>\n",
              "      <td>0.916667</td>\n",
              "      <td>0.891304</td>\n",
              "      <td>0.908255</td>\n",
              "      <td>0.011941</td>\n",
              "      <td>7</td>\n",
              "    </tr>\n",
              "    <tr>\n",
              "      <th>1</th>\n",
              "      <td>0.006401</td>\n",
              "      <td>0.004027</td>\n",
              "      <td>0.002859</td>\n",
              "      <td>0.000136</td>\n",
              "      <td>0.1</td>\n",
              "      <td>{'C': 0.1}</td>\n",
              "      <td>0.918367</td>\n",
              "      <td>0.949495</td>\n",
              "      <td>0.881720</td>\n",
              "      <td>0.916615</td>\n",
              "      <td>0.027679</td>\n",
              "      <td>5</td>\n",
              "    </tr>\n",
              "    <tr>\n",
              "      <th>2</th>\n",
              "      <td>0.003880</td>\n",
              "      <td>0.000093</td>\n",
              "      <td>0.004392</td>\n",
              "      <td>0.002222</td>\n",
              "      <td>1</td>\n",
              "      <td>{'C': 1}</td>\n",
              "      <td>0.907216</td>\n",
              "      <td>0.950495</td>\n",
              "      <td>0.872340</td>\n",
              "      <td>0.910112</td>\n",
              "      <td>0.031952</td>\n",
              "      <td>6</td>\n",
              "    </tr>\n",
              "    <tr>\n",
              "      <th>3</th>\n",
              "      <td>0.004241</td>\n",
              "      <td>0.000103</td>\n",
              "      <td>0.004172</td>\n",
              "      <td>0.002112</td>\n",
              "      <td>10</td>\n",
              "      <td>{'C': 10}</td>\n",
              "      <td>0.918367</td>\n",
              "      <td>0.960784</td>\n",
              "      <td>0.895833</td>\n",
              "      <td>0.925068</td>\n",
              "      <td>0.026921</td>\n",
              "      <td>4</td>\n",
              "    </tr>\n",
              "    <tr>\n",
              "      <th>4</th>\n",
              "      <td>0.006474</td>\n",
              "      <td>0.003186</td>\n",
              "      <td>0.004350</td>\n",
              "      <td>0.002242</td>\n",
              "      <td>1000</td>\n",
              "      <td>{'C': 1000}</td>\n",
              "      <td>0.929293</td>\n",
              "      <td>0.969697</td>\n",
              "      <td>0.918367</td>\n",
              "      <td>0.939171</td>\n",
              "      <td>0.022080</td>\n",
              "      <td>1</td>\n",
              "    </tr>\n",
              "    <tr>\n",
              "      <th>5</th>\n",
              "      <td>0.004529</td>\n",
              "      <td>0.000287</td>\n",
              "      <td>0.002827</td>\n",
              "      <td>0.000127</td>\n",
              "      <td>1500</td>\n",
              "      <td>{'C': 1500}</td>\n",
              "      <td>0.929293</td>\n",
              "      <td>0.969697</td>\n",
              "      <td>0.918367</td>\n",
              "      <td>0.939171</td>\n",
              "      <td>0.022080</td>\n",
              "      <td>1</td>\n",
              "    </tr>\n",
              "    <tr>\n",
              "      <th>6</th>\n",
              "      <td>0.004300</td>\n",
              "      <td>0.000073</td>\n",
              "      <td>0.003535</td>\n",
              "      <td>0.001852</td>\n",
              "      <td>2000</td>\n",
              "      <td>{'C': 2000}</td>\n",
              "      <td>0.929293</td>\n",
              "      <td>0.969697</td>\n",
              "      <td>0.918367</td>\n",
              "      <td>0.939171</td>\n",
              "      <td>0.022080</td>\n",
              "      <td>1</td>\n",
              "    </tr>\n",
              "  </tbody>\n",
              "</table>\n",
              "</div>"
            ],
            "text/plain": [
              "   mean_fit_time  std_fit_time  ...  std_test_score  rank_test_score\n",
              "0       0.004825      0.000879  ...        0.011941                7\n",
              "1       0.006401      0.004027  ...        0.027679                5\n",
              "2       0.003880      0.000093  ...        0.031952                6\n",
              "3       0.004241      0.000103  ...        0.026921                4\n",
              "4       0.006474      0.003186  ...        0.022080                1\n",
              "5       0.004529      0.000287  ...        0.022080                1\n",
              "6       0.004300      0.000073  ...        0.022080                1\n",
              "\n",
              "[7 rows x 12 columns]"
            ]
          },
          "metadata": {
            "tags": []
          }
        },
        {
          "output_type": "stream",
          "text": [
            "/usr/local/lib/python3.6/dist-packages/sklearn/linear_model/logistic.py:432: FutureWarning: Default solver will be changed to 'lbfgs' in 0.22. Specify a solver to silence this warning.\n",
            "  FutureWarning)\n"
          ],
          "name": "stderr"
        }
      ]
    },
    {
      "cell_type": "markdown",
      "metadata": {
        "id": "BOxZVordUtuS"
      },
      "source": [
        "Best Model After Tuning :"
      ]
    },
    {
      "cell_type": "markdown",
      "metadata": {
        "id": "X3UuDxFXHD6F"
      },
      "source": [
        "The best model is Nonlinear SVM with\n",
        "\n",
        "---\n",
        "Best accuracy score on the testing data: 0.9708\n",
        "\n",
        "Best F-score on the testing data: 0.9600\n",
        "\n",
        "-------------------------------\n",
        "Best parameters found: {'C': 1, 'gamma': 0.1}\n"
      ]
    },
    {
      "cell_type": "code",
      "metadata": {
        "id": "KPK9IJzPUwJ4"
      },
      "source": [
        "from sklearn.metrics import classification_report, confusion_matrix\n",
        "\n",
        "\n",
        "final_model = svm.SVC(kernel='rbf', C=1, gamma=0.1)\n",
        "final_model.fit(features_train, labels_train)\n",
        "y_pred = final_model.predict(features_test)\n",
        "y_true = labels_test"
      ],
      "execution_count": null,
      "outputs": []
    },
    {
      "cell_type": "code",
      "metadata": {
        "id": "Mpl-NbxtKWvN",
        "colab": {
          "base_uri": "https://localhost:8080/",
          "height": 224
        },
        "outputId": "5735a24f-6c68-4358-a34f-a032eabb593e"
      },
      "source": [
        "print(classification_report(y_true, y_pred))"
      ],
      "execution_count": null,
      "outputs": [
        {
          "output_type": "stream",
          "text": [
            "              precision    recall  f1-score   support\n",
            "\n",
            "           B       0.63      1.00      0.77       108\n",
            "           M       0.00      0.00      0.00        63\n",
            "\n",
            "    accuracy                           0.63       171\n",
            "   macro avg       0.32      0.50      0.39       171\n",
            "weighted avg       0.40      0.63      0.49       171\n",
            "\n"
          ],
          "name": "stdout"
        },
        {
          "output_type": "stream",
          "text": [
            "/usr/local/lib/python3.6/dist-packages/sklearn/metrics/classification.py:1437: UndefinedMetricWarning: Precision and F-score are ill-defined and being set to 0.0 in labels with no predicted samples.\n",
            "  'precision', 'predicted', average, warn_for)\n"
          ],
          "name": "stderr"
        }
      ]
    },
    {
      "cell_type": "code",
      "metadata": {
        "id": "4rB8JQgaKXwz",
        "colab": {
          "base_uri": "https://localhost:8080/",
          "height": 51
        },
        "outputId": "93bc3af4-e98e-4457-f708-29104ebef458"
      },
      "source": [
        "print(confusion_matrix(labels_test, y_pred))"
      ],
      "execution_count": null,
      "outputs": [
        {
          "output_type": "stream",
          "text": [
            "[[108   0]\n",
            " [ 63   0]]\n"
          ],
          "name": "stdout"
        }
      ]
    },
    {
      "cell_type": "markdown",
      "metadata": {
        "id": "XHWH4RZN4q1M"
      },
      "source": [
        "Conclusion :"
      ]
    },
    {
      "cell_type": "code",
      "metadata": {
        "id": "ZE-yCefo4p4T"
      },
      "source": [
        ""
      ],
      "execution_count": null,
      "outputs": []
    }
  ]
}